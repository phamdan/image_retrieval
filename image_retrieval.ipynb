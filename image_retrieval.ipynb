{
 "cells": [
  {
   "cell_type": "code",
   "execution_count": 1,
   "metadata": {
    "colab": {
     "base_uri": "https://localhost:8080/"
    },
    "executionInfo": {
     "elapsed": 1154,
     "status": "ok",
     "timestamp": 1631063682759,
     "user": {
      "displayName": "Dân Phạm",
      "photoUrl": "https://lh3.googleusercontent.com/a/default-user=s64",
      "userId": "01439254586035670376"
     },
     "user_tz": -420
    },
    "id": "dbVR-4SpkS54",
    "outputId": "8c0bc48b-45ba-4942-da98-f9cb5558a6ae",
    "scrolled": true
   },
   "outputs": [
    {
     "name": "stdout",
     "output_type": "stream",
     "text": [
      "/home/anlab/Downloads/imageclassification/image_retrieval\n"
     ]
    }
   ],
   "source": [
    "%cd image_retrieval/"
   ]
  },
  {
   "cell_type": "code",
   "execution_count": 2,
   "metadata": {},
   "outputs": [],
   "source": [
    "path_local=\"/home/anlab/Downloads/imageclassification/\""
   ]
  },
  {
   "cell_type": "markdown",
   "metadata": {
    "id": "I5Q3M_ugkcWO"
   },
   "source": [
    "***Lấy file query ***"
   ]
  },
  {
   "cell_type": "code",
   "execution_count": null,
   "metadata": {},
   "outputs": [],
   "source": []
  },
  {
   "cell_type": "code",
   "execution_count": 3,
   "metadata": {
    "executionInfo": {
     "elapsed": 3,
     "status": "ok",
     "timestamp": 1631063686768,
     "user": {
      "displayName": "Dân Phạm",
      "photoUrl": "https://lh3.googleusercontent.com/a/default-user=s64",
      "userId": "01439254586035670376"
     },
     "user_tz": -420
    },
    "id": "VEXxH4jNo72V"
   },
   "outputs": [],
   "source": [
    "import os\n",
    "def get_file_query():\n",
    "  path= \"gt_files/\"\n",
    "  list_gt = os.listdir(path)\n",
    "  list_files_query=[]\n",
    "  for file_name in list_gt:\n",
    "    name=file_name.split(\".\")[0].split(\"_\")[-1]\n",
    "    if(name==\"query\"):\n",
    "      list_files_query.append(file_name)\n",
    "  return list_files_query\n"
   ]
  },
  {
   "cell_type": "code",
   "execution_count": 4,
   "metadata": {
    "colab": {
     "base_uri": "https://localhost:8080/"
    },
    "executionInfo": {
     "elapsed": 5394,
     "status": "ok",
     "timestamp": 1631063693207,
     "user": {
      "displayName": "Dân Phạm",
      "photoUrl": "https://lh3.googleusercontent.com/a/default-user=s64",
      "userId": "01439254586035670376"
     },
     "user_tz": -420
    },
    "id": "oIhz64aktd6a",
    "outputId": "35c65d1d-2879-47e5-e376-5f7041648a68"
   },
   "outputs": [
    {
     "name": "stdout",
     "output_type": "stream",
     "text": [
      "['all_souls_3_query.txt', 'cornmarket_3_query.txt', 'bodleian_4_query.txt', 'radcliffe_camera_5_query.txt', 'bodleian_5_query.txt', 'pitt_rivers_3_query.txt', 'magdalen_4_query.txt', 'radcliffe_camera_1_query.txt', 'christ_church_2_query.txt', 'christ_church_1_query.txt', 'balliol_1_query.txt', 'balliol_2_query.txt', 'balliol_5_query.txt', 'radcliffe_camera_2_query.txt', 'magdalen_1_query.txt', 'cornmarket_5_query.txt', 'christ_church_5_query.txt', 'christ_church_4_query.txt', 'hertford_5_query.txt', 'cornmarket_1_query.txt', 'ashmolean_2_query.txt', 'keble_3_query.txt', 'radcliffe_camera_3_query.txt', 'pitt_rivers_1_query.txt', 'hertford_4_query.txt', 'keble_4_query.txt', 'cornmarket_4_query.txt', 'pitt_rivers_5_query.txt', 'magdalen_2_query.txt', 'all_souls_1_query.txt', 'keble_2_query.txt', 'ashmolean_1_query.txt', 'hertford_3_query.txt', 'ashmolean_4_query.txt', 'all_souls_4_query.txt', 'bodleian_3_query.txt', 'all_souls_2_query.txt', 'pitt_rivers_2_query.txt', 'balliol_4_query.txt', 'hertford_1_query.txt', 'bodleian_2_query.txt', 'ashmolean_3_query.txt', 'christ_church_3_query.txt', 'keble_1_query.txt', 'magdalen_5_query.txt', 'cornmarket_2_query.txt', 'pitt_rivers_4_query.txt', 'balliol_3_query.txt', 'magdalen_3_query.txt', 'bodleian_1_query.txt', 'ashmolean_5_query.txt', 'radcliffe_camera_4_query.txt', 'hertford_2_query.txt', 'all_souls_5_query.txt', 'keble_5_query.txt']\n",
      "55\n"
     ]
    }
   ],
   "source": [
    "list_files_query= get_file_query()\n",
    "print(list_files_query)\n",
    "print(len(list_files_query))"
   ]
  },
  {
   "cell_type": "markdown",
   "metadata": {
    "id": "AGzmYgTjlFt1"
   },
   "source": [
    "**lấy file ảnh tương ứng với querry (gồm 3 file good, oke, junk)**"
   ]
  },
  {
   "cell_type": "code",
   "execution_count": 5,
   "metadata": {
    "executionInfo": {
     "elapsed": 7,
     "status": "ok",
     "timestamp": 1631063693208,
     "user": {
      "displayName": "Dân Phạm",
      "photoUrl": "https://lh3.googleusercontent.com/a/default-user=s64",
      "userId": "01439254586035670376"
     },
     "user_tz": -420
    },
    "id": "XDfXSsIszApF"
   },
   "outputs": [],
   "source": [
    "#get file good,oke,junk correspond\n",
    "def get_file_name(list_files_query, name):\n",
    "  list_files_name=[]\n",
    "  for query_file in list_files_query:\n",
    "    name_correspond= query_file.replace(\"query\",name)\n",
    "    list_files_name.append(name_correspond)\n",
    "  return list_files_name\n",
    "  \n",
    "\n"
   ]
  },
  {
   "cell_type": "code",
   "execution_count": 6,
   "metadata": {
    "executionInfo": {
     "elapsed": 1237,
     "status": "ok",
     "timestamp": 1631063695266,
     "user": {
      "displayName": "Dân Phạm",
      "photoUrl": "https://lh3.googleusercontent.com/a/default-user=s64",
      "userId": "01439254586035670376"
     },
     "user_tz": -420
    },
    "id": "Uwweilew1Dr4"
   },
   "outputs": [],
   "source": [
    "list_files_good=get_file_name(list_files_query,\"good\")\n",
    "list_files_junk=get_file_name(list_files_query,\"junk\")\n",
    "list_files_ok=get_file_name(list_files_query,\"ok\")\n"
   ]
  },
  {
   "cell_type": "markdown",
   "metadata": {
    "id": "zfqPHLJMlTs3"
   },
   "source": [
    "**lấy ảnh trong file query**"
   ]
  },
  {
   "cell_type": "code",
   "execution_count": 7,
   "metadata": {
    "executionInfo": {
     "elapsed": 306,
     "status": "ok",
     "timestamp": 1631063702020,
     "user": {
      "displayName": "Dân Phạm",
      "photoUrl": "https://lh3.googleusercontent.com/a/default-user=s64",
      "userId": "01439254586035670376"
     },
     "user_tz": -420
    },
    "id": "Kymc5gp21yB9"
   },
   "outputs": [],
   "source": [
    "def get_image_query(list_files_query):\n",
    "  list_image_query=[]\n",
    "  for query in list_files_query:\n",
    "    dir= \"gt_files/\"+query\n",
    "    with open(dir,\"r\") as f:\n",
    "      for line in f.readlines():\n",
    "        name_image= line.split(\" \")[0].split(\"_\",1)[1]\n",
    "        list_image_query.append(name_image)\n",
    "  return list_image_query"
   ]
  },
  {
   "cell_type": "code",
   "execution_count": 8,
   "metadata": {
    "colab": {
     "base_uri": "https://localhost:8080/"
    },
    "executionInfo": {
     "elapsed": 10710,
     "status": "ok",
     "timestamp": 1631063716060,
     "user": {
      "displayName": "Dân Phạm",
      "photoUrl": "https://lh3.googleusercontent.com/a/default-user=s64",
      "userId": "01439254586035670376"
     },
     "user_tz": -420
    },
    "id": "5p0Tgr3i23sx",
    "outputId": "532154b0-3a1b-4c0c-c3cf-77983873f4d8"
   },
   "outputs": [
    {
     "name": "stdout",
     "output_type": "stream",
     "text": [
      "['oxford_002985', 'cornmarket_000019', 'bodleian_000407', 'bodleian_000132', 'bodleian_000163', 'pitt_rivers_000153', 'oxford_001115', 'radcliffe_camera_000519', 'oxford_002734', 'christ_church_000179', 'balliol_000051', 'balliol_000187', 'oxford_001753', 'oxford_002904', 'magdalen_000078', 'cornmarket_000131', 'oxford_002562', 'christ_church_001020', 'hertford_000063', 'cornmarket_000047', 'ashmolean_000000', 'keble_000227', 'radcliffe_camera_000523', 'pitt_rivers_000033', 'hertford_000027', 'keble_000028', 'oxford_000545', 'pitt_rivers_000058', 'oxford_003335', 'all_souls_000013', 'keble_000214', 'ashmolean_000058', 'oxford_000317', 'ashmolean_000007', 'all_souls_000051', 'bodleian_000108', 'all_souls_000026', 'pitt_rivers_000119', 'balliol_000194', 'hertford_000015', 'oxford_002416', 'ashmolean_000269', 'christ_church_000999', 'keble_000245', 'magdalen_000560', 'cornmarket_000105', 'pitt_rivers_000087', 'balliol_000167', 'magdalen_000058', 'bodleian_000107', 'ashmolean_000305', 'radcliffe_camera_000095', 'oxford_001752', 'oxford_003410', 'keble_000055']\n"
     ]
    }
   ],
   "source": [
    "test=get_image_query(list_files_query)\n",
    "print(test)"
   ]
  },
  {
   "cell_type": "markdown",
   "metadata": {
    "id": "Grj5Gnlrlar7"
   },
   "source": [
    "**lấy ảnh tương ứng của query với từng file good, oke, junk**"
   ]
  },
  {
   "cell_type": "code",
   "execution_count": 9,
   "metadata": {
    "executionInfo": {
     "elapsed": 448,
     "status": "ok",
     "timestamp": 1631063724939,
     "user": {
      "displayName": "Dân Phạm",
      "photoUrl": "https://lh3.googleusercontent.com/a/default-user=s64",
      "userId": "01439254586035670376"
     },
     "user_tz": -420
    },
    "id": "-tu809Pl6ypj"
   },
   "outputs": [],
   "source": [
    "def get_image_correspond(file_name):\n",
    "  list_image_name= []\n",
    "  with open(\"gt_files/\"+file_name,\"r\") as f:\n",
    "    for line in f.readlines():\n",
    "      list_image_name.append(line.split(\"\\n\")[0]+\".jpg\")\n",
    "  return list_image_name"
   ]
  },
  {
   "cell_type": "code",
   "execution_count": 10,
   "metadata": {
    "colab": {
     "base_uri": "https://localhost:8080/"
    },
    "executionInfo": {
     "elapsed": 300,
     "status": "ok",
     "timestamp": 1631063728335,
     "user": {
      "displayName": "Dân Phạm",
      "photoUrl": "https://lh3.googleusercontent.com/a/default-user=s64",
      "userId": "01439254586035670376"
     },
     "user_tz": -420
    },
    "id": "P6Xq4cBq6U2C",
    "outputId": "ad188673-e01f-4453-a6cd-7b864b19a8b1"
   },
   "outputs": [
    {
     "name": "stdout",
     "output_type": "stream",
     "text": [
      "['all_souls_000091.jpg', 'all_souls_000026.jpg', 'oxford_003410.jpg', 'oxford_002985.jpg', 'all_souls_000015.jpg', 'oxford_000926.jpg', 'all_souls_000055.jpg', 'oxford_001955.jpg', 'all_souls_000140.jpg', 'all_souls_000068.jpg', 'all_souls_000002.jpg', 'all_souls_000006.jpg', 'all_souls_000209.jpg', 'all_souls_000146.jpg', 'oxford_001264.jpg', 'all_souls_000013.jpg', 'oxford_000669.jpg', 'oxford_002503.jpg', 'oxford_002338.jpg', 'oxford_000962.jpg', 'all_souls_000040.jpg', 'all_souls_000150.jpg', 'oxford_001308.jpg', 'oxford_001806.jpg']\n"
     ]
    }
   ],
   "source": [
    "test=get_image_correspond(list_files_good[0])\n",
    "print(test)"
   ]
  },
  {
   "cell_type": "code",
   "execution_count": 11,
   "metadata": {
    "executionInfo": {
     "elapsed": 322,
     "status": "ok",
     "timestamp": 1631063763471,
     "user": {
      "displayName": "Dân Phạm",
      "photoUrl": "https://lh3.googleusercontent.com/a/default-user=s64",
      "userId": "01439254586035670376"
     },
     "user_tz": -420
    },
    "id": "XH5lwQSbOzSr"
   },
   "outputs": [],
   "source": [
    "import numpy as np\n",
    "%matplotlib inline\n",
    "import matplotlib.pyplot as plt\n",
    "from PIL import Image"
   ]
  },
  {
   "cell_type": "code",
   "execution_count": 13,
   "metadata": {
    "executionInfo": {
     "elapsed": 2364,
     "status": "ok",
     "timestamp": 1631063766793,
     "user": {
      "displayName": "Dân Phạm",
      "photoUrl": "https://lh3.googleusercontent.com/a/default-user=s64",
      "userId": "01439254586035670376"
     },
     "user_tz": -420
    },
    "id": "hh5j0uVjbBc3"
   },
   "outputs": [],
   "source": [
    "import keras\n",
    "import tensorflow as tf\n",
    "from tensorflow.keras.preprocessing.image import ImageDataGenerator\n",
    "from tensorflow.keras.applications import ResNet50\n",
    "from tensorflow.keras.applications.resnet50 import preprocess_input\n",
    "from tensorflow.keras import Model, layers\n",
    "from tensorflow.keras.preprocessing import image\n",
    "from tensorflow.keras.models import load_model, model_from_json\n",
    "\n",
    "import PIL\n",
    "import os"
   ]
  },
  {
   "cell_type": "code",
   "execution_count": 15,
   "metadata": {
    "colab": {
     "base_uri": "https://localhost:8080/"
    },
    "executionInfo": {
     "elapsed": 8518,
     "status": "ok",
     "timestamp": 1631063775310,
     "user": {
      "displayName": "Dân Phạm",
      "photoUrl": "https://lh3.googleusercontent.com/a/default-user=s64",
      "userId": "01439254586035670376"
     },
     "user_tz": -420
    },
    "id": "lofKHi6Zf0yJ",
    "outputId": "9f8aa138-0d97-412a-88b0-fb031665c7a5"
   },
   "outputs": [],
   "source": [
    "conv_base = ResNet50(\n",
    "    include_top=False,\n",
    "    weights=\"imagenet\")\n",
    "\n",
    "for layer in conv_base.layers:\n",
    "    layer.trainable = True"
   ]
  },
  {
   "cell_type": "code",
   "execution_count": 16,
   "metadata": {
    "colab": {
     "base_uri": "https://localhost:8080/"
    },
    "executionInfo": {
     "elapsed": 338,
     "status": "ok",
     "timestamp": 1630758263136,
     "user": {
      "displayName": "Dân Phạm",
      "photoUrl": "https://lh3.googleusercontent.com/a/default-user=s64",
      "userId": "01439254586035670376"
     },
     "user_tz": -420
    },
    "id": "c2Oq8xKAakvs",
    "outputId": "228a357f-5a01-48ee-ef8f-a92054b49e3f"
   },
   "outputs": [
    {
     "name": "stdout",
     "output_type": "stream",
     "text": [
      "Model: \"resnet50\"\n",
      "__________________________________________________________________________________________________\n",
      "Layer (type)                    Output Shape         Param #     Connected to                     \n",
      "==================================================================================================\n",
      "input_2 (InputLayer)            [(None, None, None,  0                                            \n",
      "__________________________________________________________________________________________________\n",
      "conv1_pad (ZeroPadding2D)       (None, None, None, 3 0           input_2[0][0]                    \n",
      "__________________________________________________________________________________________________\n",
      "conv1_conv (Conv2D)             (None, None, None, 6 9472        conv1_pad[0][0]                  \n",
      "__________________________________________________________________________________________________\n",
      "conv1_bn (BatchNormalization)   (None, None, None, 6 256         conv1_conv[0][0]                 \n",
      "__________________________________________________________________________________________________\n",
      "conv1_relu (Activation)         (None, None, None, 6 0           conv1_bn[0][0]                   \n",
      "__________________________________________________________________________________________________\n",
      "pool1_pad (ZeroPadding2D)       (None, None, None, 6 0           conv1_relu[0][0]                 \n",
      "__________________________________________________________________________________________________\n",
      "pool1_pool (MaxPooling2D)       (None, None, None, 6 0           pool1_pad[0][0]                  \n",
      "__________________________________________________________________________________________________\n",
      "conv2_block1_1_conv (Conv2D)    (None, None, None, 6 4160        pool1_pool[0][0]                 \n",
      "__________________________________________________________________________________________________\n",
      "conv2_block1_1_bn (BatchNormali (None, None, None, 6 256         conv2_block1_1_conv[0][0]        \n",
      "__________________________________________________________________________________________________\n",
      "conv2_block1_1_relu (Activation (None, None, None, 6 0           conv2_block1_1_bn[0][0]          \n",
      "__________________________________________________________________________________________________\n",
      "conv2_block1_2_conv (Conv2D)    (None, None, None, 6 36928       conv2_block1_1_relu[0][0]        \n",
      "__________________________________________________________________________________________________\n",
      "conv2_block1_2_bn (BatchNormali (None, None, None, 6 256         conv2_block1_2_conv[0][0]        \n",
      "__________________________________________________________________________________________________\n",
      "conv2_block1_2_relu (Activation (None, None, None, 6 0           conv2_block1_2_bn[0][0]          \n",
      "__________________________________________________________________________________________________\n",
      "conv2_block1_0_conv (Conv2D)    (None, None, None, 2 16640       pool1_pool[0][0]                 \n",
      "__________________________________________________________________________________________________\n",
      "conv2_block1_3_conv (Conv2D)    (None, None, None, 2 16640       conv2_block1_2_relu[0][0]        \n",
      "__________________________________________________________________________________________________\n",
      "conv2_block1_0_bn (BatchNormali (None, None, None, 2 1024        conv2_block1_0_conv[0][0]        \n",
      "__________________________________________________________________________________________________\n",
      "conv2_block1_3_bn (BatchNormali (None, None, None, 2 1024        conv2_block1_3_conv[0][0]        \n",
      "__________________________________________________________________________________________________\n",
      "conv2_block1_add (Add)          (None, None, None, 2 0           conv2_block1_0_bn[0][0]          \n",
      "                                                                 conv2_block1_3_bn[0][0]          \n",
      "__________________________________________________________________________________________________\n",
      "conv2_block1_out (Activation)   (None, None, None, 2 0           conv2_block1_add[0][0]           \n",
      "__________________________________________________________________________________________________\n",
      "conv2_block2_1_conv (Conv2D)    (None, None, None, 6 16448       conv2_block1_out[0][0]           \n",
      "__________________________________________________________________________________________________\n",
      "conv2_block2_1_bn (BatchNormali (None, None, None, 6 256         conv2_block2_1_conv[0][0]        \n",
      "__________________________________________________________________________________________________\n",
      "conv2_block2_1_relu (Activation (None, None, None, 6 0           conv2_block2_1_bn[0][0]          \n",
      "__________________________________________________________________________________________________\n",
      "conv2_block2_2_conv (Conv2D)    (None, None, None, 6 36928       conv2_block2_1_relu[0][0]        \n",
      "__________________________________________________________________________________________________\n",
      "conv2_block2_2_bn (BatchNormali (None, None, None, 6 256         conv2_block2_2_conv[0][0]        \n",
      "__________________________________________________________________________________________________\n",
      "conv2_block2_2_relu (Activation (None, None, None, 6 0           conv2_block2_2_bn[0][0]          \n",
      "__________________________________________________________________________________________________\n",
      "conv2_block2_3_conv (Conv2D)    (None, None, None, 2 16640       conv2_block2_2_relu[0][0]        \n",
      "__________________________________________________________________________________________________\n",
      "conv2_block2_3_bn (BatchNormali (None, None, None, 2 1024        conv2_block2_3_conv[0][0]        \n",
      "__________________________________________________________________________________________________\n",
      "conv2_block2_add (Add)          (None, None, None, 2 0           conv2_block1_out[0][0]           \n",
      "                                                                 conv2_block2_3_bn[0][0]          \n",
      "__________________________________________________________________________________________________\n",
      "conv2_block2_out (Activation)   (None, None, None, 2 0           conv2_block2_add[0][0]           \n",
      "__________________________________________________________________________________________________\n",
      "conv2_block3_1_conv (Conv2D)    (None, None, None, 6 16448       conv2_block2_out[0][0]           \n",
      "__________________________________________________________________________________________________\n",
      "conv2_block3_1_bn (BatchNormali (None, None, None, 6 256         conv2_block3_1_conv[0][0]        \n",
      "__________________________________________________________________________________________________\n",
      "conv2_block3_1_relu (Activation (None, None, None, 6 0           conv2_block3_1_bn[0][0]          \n",
      "__________________________________________________________________________________________________\n",
      "conv2_block3_2_conv (Conv2D)    (None, None, None, 6 36928       conv2_block3_1_relu[0][0]        \n",
      "__________________________________________________________________________________________________\n",
      "conv2_block3_2_bn (BatchNormali (None, None, None, 6 256         conv2_block3_2_conv[0][0]        \n",
      "__________________________________________________________________________________________________\n",
      "conv2_block3_2_relu (Activation (None, None, None, 6 0           conv2_block3_2_bn[0][0]          \n",
      "__________________________________________________________________________________________________\n",
      "conv2_block3_3_conv (Conv2D)    (None, None, None, 2 16640       conv2_block3_2_relu[0][0]        \n",
      "__________________________________________________________________________________________________\n",
      "conv2_block3_3_bn (BatchNormali (None, None, None, 2 1024        conv2_block3_3_conv[0][0]        \n",
      "__________________________________________________________________________________________________\n",
      "conv2_block3_add (Add)          (None, None, None, 2 0           conv2_block2_out[0][0]           \n",
      "                                                                 conv2_block3_3_bn[0][0]          \n",
      "__________________________________________________________________________________________________\n",
      "conv2_block3_out (Activation)   (None, None, None, 2 0           conv2_block3_add[0][0]           \n",
      "__________________________________________________________________________________________________\n",
      "conv3_block1_1_conv (Conv2D)    (None, None, None, 1 32896       conv2_block3_out[0][0]           \n",
      "__________________________________________________________________________________________________\n",
      "conv3_block1_1_bn (BatchNormali (None, None, None, 1 512         conv3_block1_1_conv[0][0]        \n",
      "__________________________________________________________________________________________________\n",
      "conv3_block1_1_relu (Activation (None, None, None, 1 0           conv3_block1_1_bn[0][0]          \n",
      "__________________________________________________________________________________________________\n",
      "conv3_block1_2_conv (Conv2D)    (None, None, None, 1 147584      conv3_block1_1_relu[0][0]        \n",
      "__________________________________________________________________________________________________\n",
      "conv3_block1_2_bn (BatchNormali (None, None, None, 1 512         conv3_block1_2_conv[0][0]        \n",
      "__________________________________________________________________________________________________\n",
      "conv3_block1_2_relu (Activation (None, None, None, 1 0           conv3_block1_2_bn[0][0]          \n",
      "__________________________________________________________________________________________________\n",
      "conv3_block1_0_conv (Conv2D)    (None, None, None, 5 131584      conv2_block3_out[0][0]           \n",
      "__________________________________________________________________________________________________\n",
      "conv3_block1_3_conv (Conv2D)    (None, None, None, 5 66048       conv3_block1_2_relu[0][0]        \n",
      "__________________________________________________________________________________________________\n",
      "conv3_block1_0_bn (BatchNormali (None, None, None, 5 2048        conv3_block1_0_conv[0][0]        \n",
      "__________________________________________________________________________________________________\n",
      "conv3_block1_3_bn (BatchNormali (None, None, None, 5 2048        conv3_block1_3_conv[0][0]        \n",
      "__________________________________________________________________________________________________\n",
      "conv3_block1_add (Add)          (None, None, None, 5 0           conv3_block1_0_bn[0][0]          \n",
      "                                                                 conv3_block1_3_bn[0][0]          \n",
      "__________________________________________________________________________________________________\n",
      "conv3_block1_out (Activation)   (None, None, None, 5 0           conv3_block1_add[0][0]           \n",
      "__________________________________________________________________________________________________\n",
      "conv3_block2_1_conv (Conv2D)    (None, None, None, 1 65664       conv3_block1_out[0][0]           \n",
      "__________________________________________________________________________________________________\n",
      "conv3_block2_1_bn (BatchNormali (None, None, None, 1 512         conv3_block2_1_conv[0][0]        \n",
      "__________________________________________________________________________________________________\n",
      "conv3_block2_1_relu (Activation (None, None, None, 1 0           conv3_block2_1_bn[0][0]          \n",
      "__________________________________________________________________________________________________\n",
      "conv3_block2_2_conv (Conv2D)    (None, None, None, 1 147584      conv3_block2_1_relu[0][0]        \n",
      "__________________________________________________________________________________________________\n",
      "conv3_block2_2_bn (BatchNormali (None, None, None, 1 512         conv3_block2_2_conv[0][0]        \n",
      "__________________________________________________________________________________________________\n",
      "conv3_block2_2_relu (Activation (None, None, None, 1 0           conv3_block2_2_bn[0][0]          \n",
      "__________________________________________________________________________________________________\n",
      "conv3_block2_3_conv (Conv2D)    (None, None, None, 5 66048       conv3_block2_2_relu[0][0]        \n",
      "__________________________________________________________________________________________________\n",
      "conv3_block2_3_bn (BatchNormali (None, None, None, 5 2048        conv3_block2_3_conv[0][0]        \n",
      "__________________________________________________________________________________________________\n",
      "conv3_block2_add (Add)          (None, None, None, 5 0           conv3_block1_out[0][0]           \n",
      "                                                                 conv3_block2_3_bn[0][0]          \n",
      "__________________________________________________________________________________________________\n",
      "conv3_block2_out (Activation)   (None, None, None, 5 0           conv3_block2_add[0][0]           \n",
      "__________________________________________________________________________________________________\n",
      "conv3_block3_1_conv (Conv2D)    (None, None, None, 1 65664       conv3_block2_out[0][0]           \n",
      "__________________________________________________________________________________________________\n",
      "conv3_block3_1_bn (BatchNormali (None, None, None, 1 512         conv3_block3_1_conv[0][0]        \n",
      "__________________________________________________________________________________________________\n",
      "conv3_block3_1_relu (Activation (None, None, None, 1 0           conv3_block3_1_bn[0][0]          \n",
      "__________________________________________________________________________________________________\n",
      "conv3_block3_2_conv (Conv2D)    (None, None, None, 1 147584      conv3_block3_1_relu[0][0]        \n",
      "__________________________________________________________________________________________________\n",
      "conv3_block3_2_bn (BatchNormali (None, None, None, 1 512         conv3_block3_2_conv[0][0]        \n",
      "__________________________________________________________________________________________________\n",
      "conv3_block3_2_relu (Activation (None, None, None, 1 0           conv3_block3_2_bn[0][0]          \n",
      "__________________________________________________________________________________________________\n",
      "conv3_block3_3_conv (Conv2D)    (None, None, None, 5 66048       conv3_block3_2_relu[0][0]        \n",
      "__________________________________________________________________________________________________\n",
      "conv3_block3_3_bn (BatchNormali (None, None, None, 5 2048        conv3_block3_3_conv[0][0]        \n",
      "__________________________________________________________________________________________________\n",
      "conv3_block3_add (Add)          (None, None, None, 5 0           conv3_block2_out[0][0]           \n",
      "                                                                 conv3_block3_3_bn[0][0]          \n",
      "__________________________________________________________________________________________________\n",
      "conv3_block3_out (Activation)   (None, None, None, 5 0           conv3_block3_add[0][0]           \n",
      "__________________________________________________________________________________________________\n",
      "conv3_block4_1_conv (Conv2D)    (None, None, None, 1 65664       conv3_block3_out[0][0]           \n",
      "__________________________________________________________________________________________________\n",
      "conv3_block4_1_bn (BatchNormali (None, None, None, 1 512         conv3_block4_1_conv[0][0]        \n",
      "__________________________________________________________________________________________________\n",
      "conv3_block4_1_relu (Activation (None, None, None, 1 0           conv3_block4_1_bn[0][0]          \n",
      "__________________________________________________________________________________________________\n",
      "conv3_block4_2_conv (Conv2D)    (None, None, None, 1 147584      conv3_block4_1_relu[0][0]        \n",
      "__________________________________________________________________________________________________\n",
      "conv3_block4_2_bn (BatchNormali (None, None, None, 1 512         conv3_block4_2_conv[0][0]        \n",
      "__________________________________________________________________________________________________\n",
      "conv3_block4_2_relu (Activation (None, None, None, 1 0           conv3_block4_2_bn[0][0]          \n",
      "__________________________________________________________________________________________________\n",
      "conv3_block4_3_conv (Conv2D)    (None, None, None, 5 66048       conv3_block4_2_relu[0][0]        \n",
      "__________________________________________________________________________________________________\n",
      "conv3_block4_3_bn (BatchNormali (None, None, None, 5 2048        conv3_block4_3_conv[0][0]        \n",
      "__________________________________________________________________________________________________\n",
      "conv3_block4_add (Add)          (None, None, None, 5 0           conv3_block3_out[0][0]           \n",
      "                                                                 conv3_block4_3_bn[0][0]          \n",
      "__________________________________________________________________________________________________\n",
      "conv3_block4_out (Activation)   (None, None, None, 5 0           conv3_block4_add[0][0]           \n",
      "__________________________________________________________________________________________________\n",
      "conv4_block1_1_conv (Conv2D)    (None, None, None, 2 131328      conv3_block4_out[0][0]           \n",
      "__________________________________________________________________________________________________\n",
      "conv4_block1_1_bn (BatchNormali (None, None, None, 2 1024        conv4_block1_1_conv[0][0]        \n",
      "__________________________________________________________________________________________________\n",
      "conv4_block1_1_relu (Activation (None, None, None, 2 0           conv4_block1_1_bn[0][0]          \n",
      "__________________________________________________________________________________________________\n",
      "conv4_block1_2_conv (Conv2D)    (None, None, None, 2 590080      conv4_block1_1_relu[0][0]        \n",
      "__________________________________________________________________________________________________\n",
      "conv4_block1_2_bn (BatchNormali (None, None, None, 2 1024        conv4_block1_2_conv[0][0]        \n",
      "__________________________________________________________________________________________________\n",
      "conv4_block1_2_relu (Activation (None, None, None, 2 0           conv4_block1_2_bn[0][0]          \n",
      "__________________________________________________________________________________________________\n",
      "conv4_block1_0_conv (Conv2D)    (None, None, None, 1 525312      conv3_block4_out[0][0]           \n",
      "__________________________________________________________________________________________________\n",
      "conv4_block1_3_conv (Conv2D)    (None, None, None, 1 263168      conv4_block1_2_relu[0][0]        \n",
      "__________________________________________________________________________________________________\n",
      "conv4_block1_0_bn (BatchNormali (None, None, None, 1 4096        conv4_block1_0_conv[0][0]        \n",
      "__________________________________________________________________________________________________\n",
      "conv4_block1_3_bn (BatchNormali (None, None, None, 1 4096        conv4_block1_3_conv[0][0]        \n",
      "__________________________________________________________________________________________________\n",
      "conv4_block1_add (Add)          (None, None, None, 1 0           conv4_block1_0_bn[0][0]          \n",
      "                                                                 conv4_block1_3_bn[0][0]          \n",
      "__________________________________________________________________________________________________\n",
      "conv4_block1_out (Activation)   (None, None, None, 1 0           conv4_block1_add[0][0]           \n",
      "__________________________________________________________________________________________________\n",
      "conv4_block2_1_conv (Conv2D)    (None, None, None, 2 262400      conv4_block1_out[0][0]           \n",
      "__________________________________________________________________________________________________\n",
      "conv4_block2_1_bn (BatchNormali (None, None, None, 2 1024        conv4_block2_1_conv[0][0]        \n",
      "__________________________________________________________________________________________________\n",
      "conv4_block2_1_relu (Activation (None, None, None, 2 0           conv4_block2_1_bn[0][0]          \n",
      "__________________________________________________________________________________________________\n",
      "conv4_block2_2_conv (Conv2D)    (None, None, None, 2 590080      conv4_block2_1_relu[0][0]        \n",
      "__________________________________________________________________________________________________\n",
      "conv4_block2_2_bn (BatchNormali (None, None, None, 2 1024        conv4_block2_2_conv[0][0]        \n",
      "__________________________________________________________________________________________________\n",
      "conv4_block2_2_relu (Activation (None, None, None, 2 0           conv4_block2_2_bn[0][0]          \n",
      "__________________________________________________________________________________________________\n",
      "conv4_block2_3_conv (Conv2D)    (None, None, None, 1 263168      conv4_block2_2_relu[0][0]        \n",
      "__________________________________________________________________________________________________\n",
      "conv4_block2_3_bn (BatchNormali (None, None, None, 1 4096        conv4_block2_3_conv[0][0]        \n",
      "__________________________________________________________________________________________________\n",
      "conv4_block2_add (Add)          (None, None, None, 1 0           conv4_block1_out[0][0]           \n",
      "                                                                 conv4_block2_3_bn[0][0]          \n",
      "__________________________________________________________________________________________________\n",
      "conv4_block2_out (Activation)   (None, None, None, 1 0           conv4_block2_add[0][0]           \n",
      "__________________________________________________________________________________________________\n",
      "conv4_block3_1_conv (Conv2D)    (None, None, None, 2 262400      conv4_block2_out[0][0]           \n",
      "__________________________________________________________________________________________________\n",
      "conv4_block3_1_bn (BatchNormali (None, None, None, 2 1024        conv4_block3_1_conv[0][0]        \n",
      "__________________________________________________________________________________________________\n",
      "conv4_block3_1_relu (Activation (None, None, None, 2 0           conv4_block3_1_bn[0][0]          \n",
      "__________________________________________________________________________________________________\n",
      "conv4_block3_2_conv (Conv2D)    (None, None, None, 2 590080      conv4_block3_1_relu[0][0]        \n",
      "__________________________________________________________________________________________________\n",
      "conv4_block3_2_bn (BatchNormali (None, None, None, 2 1024        conv4_block3_2_conv[0][0]        \n",
      "__________________________________________________________________________________________________\n",
      "conv4_block3_2_relu (Activation (None, None, None, 2 0           conv4_block3_2_bn[0][0]          \n",
      "__________________________________________________________________________________________________\n",
      "conv4_block3_3_conv (Conv2D)    (None, None, None, 1 263168      conv4_block3_2_relu[0][0]        \n",
      "__________________________________________________________________________________________________\n",
      "conv4_block3_3_bn (BatchNormali (None, None, None, 1 4096        conv4_block3_3_conv[0][0]        \n",
      "__________________________________________________________________________________________________\n",
      "conv4_block3_add (Add)          (None, None, None, 1 0           conv4_block2_out[0][0]           \n",
      "                                                                 conv4_block3_3_bn[0][0]          \n",
      "__________________________________________________________________________________________________\n",
      "conv4_block3_out (Activation)   (None, None, None, 1 0           conv4_block3_add[0][0]           \n",
      "__________________________________________________________________________________________________\n",
      "conv4_block4_1_conv (Conv2D)    (None, None, None, 2 262400      conv4_block3_out[0][0]           \n",
      "__________________________________________________________________________________________________\n",
      "conv4_block4_1_bn (BatchNormali (None, None, None, 2 1024        conv4_block4_1_conv[0][0]        \n",
      "__________________________________________________________________________________________________\n",
      "conv4_block4_1_relu (Activation (None, None, None, 2 0           conv4_block4_1_bn[0][0]          \n",
      "__________________________________________________________________________________________________\n",
      "conv4_block4_2_conv (Conv2D)    (None, None, None, 2 590080      conv4_block4_1_relu[0][0]        \n",
      "__________________________________________________________________________________________________\n",
      "conv4_block4_2_bn (BatchNormali (None, None, None, 2 1024        conv4_block4_2_conv[0][0]        \n",
      "__________________________________________________________________________________________________\n",
      "conv4_block4_2_relu (Activation (None, None, None, 2 0           conv4_block4_2_bn[0][0]          \n",
      "__________________________________________________________________________________________________\n",
      "conv4_block4_3_conv (Conv2D)    (None, None, None, 1 263168      conv4_block4_2_relu[0][0]        \n",
      "__________________________________________________________________________________________________\n",
      "conv4_block4_3_bn (BatchNormali (None, None, None, 1 4096        conv4_block4_3_conv[0][0]        \n",
      "__________________________________________________________________________________________________\n",
      "conv4_block4_add (Add)          (None, None, None, 1 0           conv4_block3_out[0][0]           \n",
      "                                                                 conv4_block4_3_bn[0][0]          \n",
      "__________________________________________________________________________________________________\n",
      "conv4_block4_out (Activation)   (None, None, None, 1 0           conv4_block4_add[0][0]           \n",
      "__________________________________________________________________________________________________\n",
      "conv4_block5_1_conv (Conv2D)    (None, None, None, 2 262400      conv4_block4_out[0][0]           \n",
      "__________________________________________________________________________________________________\n",
      "conv4_block5_1_bn (BatchNormali (None, None, None, 2 1024        conv4_block5_1_conv[0][0]        \n",
      "__________________________________________________________________________________________________\n",
      "conv4_block5_1_relu (Activation (None, None, None, 2 0           conv4_block5_1_bn[0][0]          \n",
      "__________________________________________________________________________________________________\n",
      "conv4_block5_2_conv (Conv2D)    (None, None, None, 2 590080      conv4_block5_1_relu[0][0]        \n",
      "__________________________________________________________________________________________________\n",
      "conv4_block5_2_bn (BatchNormali (None, None, None, 2 1024        conv4_block5_2_conv[0][0]        \n",
      "__________________________________________________________________________________________________\n",
      "conv4_block5_2_relu (Activation (None, None, None, 2 0           conv4_block5_2_bn[0][0]          \n",
      "__________________________________________________________________________________________________\n",
      "conv4_block5_3_conv (Conv2D)    (None, None, None, 1 263168      conv4_block5_2_relu[0][0]        \n",
      "__________________________________________________________________________________________________\n",
      "conv4_block5_3_bn (BatchNormali (None, None, None, 1 4096        conv4_block5_3_conv[0][0]        \n",
      "__________________________________________________________________________________________________\n",
      "conv4_block5_add (Add)          (None, None, None, 1 0           conv4_block4_out[0][0]           \n",
      "                                                                 conv4_block5_3_bn[0][0]          \n",
      "__________________________________________________________________________________________________\n",
      "conv4_block5_out (Activation)   (None, None, None, 1 0           conv4_block5_add[0][0]           \n",
      "__________________________________________________________________________________________________\n",
      "conv4_block6_1_conv (Conv2D)    (None, None, None, 2 262400      conv4_block5_out[0][0]           \n",
      "__________________________________________________________________________________________________\n",
      "conv4_block6_1_bn (BatchNormali (None, None, None, 2 1024        conv4_block6_1_conv[0][0]        \n",
      "__________________________________________________________________________________________________\n",
      "conv4_block6_1_relu (Activation (None, None, None, 2 0           conv4_block6_1_bn[0][0]          \n",
      "__________________________________________________________________________________________________\n",
      "conv4_block6_2_conv (Conv2D)    (None, None, None, 2 590080      conv4_block6_1_relu[0][0]        \n",
      "__________________________________________________________________________________________________\n",
      "conv4_block6_2_bn (BatchNormali (None, None, None, 2 1024        conv4_block6_2_conv[0][0]        \n",
      "__________________________________________________________________________________________________\n",
      "conv4_block6_2_relu (Activation (None, None, None, 2 0           conv4_block6_2_bn[0][0]          \n",
      "__________________________________________________________________________________________________\n",
      "conv4_block6_3_conv (Conv2D)    (None, None, None, 1 263168      conv4_block6_2_relu[0][0]        \n",
      "__________________________________________________________________________________________________\n",
      "conv4_block6_3_bn (BatchNormali (None, None, None, 1 4096        conv4_block6_3_conv[0][0]        \n",
      "__________________________________________________________________________________________________\n",
      "conv4_block6_add (Add)          (None, None, None, 1 0           conv4_block5_out[0][0]           \n",
      "                                                                 conv4_block6_3_bn[0][0]          \n",
      "__________________________________________________________________________________________________\n",
      "conv4_block6_out (Activation)   (None, None, None, 1 0           conv4_block6_add[0][0]           \n",
      "__________________________________________________________________________________________________\n",
      "conv5_block1_1_conv (Conv2D)    (None, None, None, 5 524800      conv4_block6_out[0][0]           \n",
      "__________________________________________________________________________________________________\n",
      "conv5_block1_1_bn (BatchNormali (None, None, None, 5 2048        conv5_block1_1_conv[0][0]        \n",
      "__________________________________________________________________________________________________\n",
      "conv5_block1_1_relu (Activation (None, None, None, 5 0           conv5_block1_1_bn[0][0]          \n",
      "__________________________________________________________________________________________________\n",
      "conv5_block1_2_conv (Conv2D)    (None, None, None, 5 2359808     conv5_block1_1_relu[0][0]        \n",
      "__________________________________________________________________________________________________\n",
      "conv5_block1_2_bn (BatchNormali (None, None, None, 5 2048        conv5_block1_2_conv[0][0]        \n",
      "__________________________________________________________________________________________________\n",
      "conv5_block1_2_relu (Activation (None, None, None, 5 0           conv5_block1_2_bn[0][0]          \n",
      "__________________________________________________________________________________________________\n",
      "conv5_block1_0_conv (Conv2D)    (None, None, None, 2 2099200     conv4_block6_out[0][0]           \n",
      "__________________________________________________________________________________________________\n",
      "conv5_block1_3_conv (Conv2D)    (None, None, None, 2 1050624     conv5_block1_2_relu[0][0]        \n",
      "__________________________________________________________________________________________________\n",
      "conv5_block1_0_bn (BatchNormali (None, None, None, 2 8192        conv5_block1_0_conv[0][0]        \n",
      "__________________________________________________________________________________________________\n",
      "conv5_block1_3_bn (BatchNormali (None, None, None, 2 8192        conv5_block1_3_conv[0][0]        \n",
      "__________________________________________________________________________________________________\n",
      "conv5_block1_add (Add)          (None, None, None, 2 0           conv5_block1_0_bn[0][0]          \n",
      "                                                                 conv5_block1_3_bn[0][0]          \n",
      "__________________________________________________________________________________________________\n",
      "conv5_block1_out (Activation)   (None, None, None, 2 0           conv5_block1_add[0][0]           \n",
      "__________________________________________________________________________________________________\n",
      "conv5_block2_1_conv (Conv2D)    (None, None, None, 5 1049088     conv5_block1_out[0][0]           \n",
      "__________________________________________________________________________________________________\n",
      "conv5_block2_1_bn (BatchNormali (None, None, None, 5 2048        conv5_block2_1_conv[0][0]        \n",
      "__________________________________________________________________________________________________\n",
      "conv5_block2_1_relu (Activation (None, None, None, 5 0           conv5_block2_1_bn[0][0]          \n",
      "__________________________________________________________________________________________________\n",
      "conv5_block2_2_conv (Conv2D)    (None, None, None, 5 2359808     conv5_block2_1_relu[0][0]        \n",
      "__________________________________________________________________________________________________\n",
      "conv5_block2_2_bn (BatchNormali (None, None, None, 5 2048        conv5_block2_2_conv[0][0]        \n",
      "__________________________________________________________________________________________________\n",
      "conv5_block2_2_relu (Activation (None, None, None, 5 0           conv5_block2_2_bn[0][0]          \n",
      "__________________________________________________________________________________________________\n",
      "conv5_block2_3_conv (Conv2D)    (None, None, None, 2 1050624     conv5_block2_2_relu[0][0]        \n",
      "__________________________________________________________________________________________________\n",
      "conv5_block2_3_bn (BatchNormali (None, None, None, 2 8192        conv5_block2_3_conv[0][0]        \n",
      "__________________________________________________________________________________________________\n",
      "conv5_block2_add (Add)          (None, None, None, 2 0           conv5_block1_out[0][0]           \n",
      "                                                                 conv5_block2_3_bn[0][0]          \n",
      "__________________________________________________________________________________________________\n",
      "conv5_block2_out (Activation)   (None, None, None, 2 0           conv5_block2_add[0][0]           \n",
      "__________________________________________________________________________________________________\n",
      "conv5_block3_1_conv (Conv2D)    (None, None, None, 5 1049088     conv5_block2_out[0][0]           \n",
      "__________________________________________________________________________________________________\n",
      "conv5_block3_1_bn (BatchNormali (None, None, None, 5 2048        conv5_block3_1_conv[0][0]        \n",
      "__________________________________________________________________________________________________\n",
      "conv5_block3_1_relu (Activation (None, None, None, 5 0           conv5_block3_1_bn[0][0]          \n",
      "__________________________________________________________________________________________________\n",
      "conv5_block3_2_conv (Conv2D)    (None, None, None, 5 2359808     conv5_block3_1_relu[0][0]        \n",
      "__________________________________________________________________________________________________\n",
      "conv5_block3_2_bn (BatchNormali (None, None, None, 5 2048        conv5_block3_2_conv[0][0]        \n",
      "__________________________________________________________________________________________________\n",
      "conv5_block3_2_relu (Activation (None, None, None, 5 0           conv5_block3_2_bn[0][0]          \n",
      "__________________________________________________________________________________________________\n",
      "conv5_block3_3_conv (Conv2D)    (None, None, None, 2 1050624     conv5_block3_2_relu[0][0]        \n",
      "__________________________________________________________________________________________________\n",
      "conv5_block3_3_bn (BatchNormali (None, None, None, 2 8192        conv5_block3_3_conv[0][0]        \n",
      "__________________________________________________________________________________________________\n",
      "conv5_block3_add (Add)          (None, None, None, 2 0           conv5_block2_out[0][0]           \n",
      "                                                                 conv5_block3_3_bn[0][0]          \n",
      "__________________________________________________________________________________________________\n",
      "conv5_block3_out (Activation)   (None, None, None, 2 0           conv5_block3_add[0][0]           \n",
      "==================================================================================================\n",
      "Total params: 23,587,712\n",
      "Trainable params: 23,534,592\n",
      "Non-trainable params: 53,120\n",
      "__________________________________________________________________________________________________\n"
     ]
    }
   ],
   "source": [
    "conv_base.summary()"
   ]
  },
  {
   "cell_type": "code",
   "execution_count": 17,
   "metadata": {
    "executionInfo": {
     "elapsed": 340,
     "status": "ok",
     "timestamp": 1631063851154,
     "user": {
      "displayName": "Dân Phạm",
      "photoUrl": "https://lh3.googleusercontent.com/a/default-user=s64",
      "userId": "01439254586035670376"
     },
     "user_tz": -420
    },
    "id": "883w4J33f2CG"
   },
   "outputs": [],
   "source": [
    "x = conv_base.output\n",
    "x = layers.GlobalAveragePooling2D()(x)\n",
    "x = layers.Dense(128, activation='relu')(x) \n",
    "predictions = layers.Dense(11, activation='softmax')(x)\n",
    "model = Model(conv_base.input, predictions)"
   ]
  },
  {
   "cell_type": "markdown",
   "metadata": {
    "id": "DfO5r7LcmK5S"
   },
   "source": [
    "**model lấy vector embedding**"
   ]
  },
  {
   "cell_type": "code",
   "execution_count": 18,
   "metadata": {
    "executionInfo": {
     "elapsed": 321,
     "status": "ok",
     "timestamp": 1631063855267,
     "user": {
      "displayName": "Dân Phạm",
      "photoUrl": "https://lh3.googleusercontent.com/a/default-user=s64",
      "userId": "01439254586035670376"
     },
     "user_tz": -420
    },
    "id": "ZKCs4PHVWyUV"
   },
   "outputs": [],
   "source": [
    "model_new=model\n",
    "layer_name = 'global_average_pooling2d'\n",
    "intermediate_layer_model = Model(model.input,model_new.get_layer(layer_name).output)"
   ]
  },
  {
   "cell_type": "code",
   "execution_count": 19,
   "metadata": {
    "colab": {
     "base_uri": "https://localhost:8080/"
    },
    "executionInfo": {
     "elapsed": 344,
     "status": "ok",
     "timestamp": 1631064162570,
     "user": {
      "displayName": "Dân Phạm",
      "photoUrl": "https://lh3.googleusercontent.com/a/default-user=s64",
      "userId": "01439254586035670376"
     },
     "user_tz": -420
    },
    "id": "9p2a0Lsi2uI0",
    "outputId": "887c4d76-d1c2-44f6-806b-affc2746ef93"
   },
   "outputs": [
    {
     "name": "stdout",
     "output_type": "stream",
     "text": [
      "['all_souls_3_query.txt', 'cornmarket_3_query.txt', 'bodleian_4_query.txt', 'radcliffe_camera_5_query.txt', 'bodleian_5_query.txt', 'pitt_rivers_3_query.txt', 'magdalen_4_query.txt', 'radcliffe_camera_1_query.txt', 'christ_church_2_query.txt', 'christ_church_1_query.txt', 'balliol_1_query.txt', 'balliol_2_query.txt', 'balliol_5_query.txt', 'radcliffe_camera_2_query.txt', 'magdalen_1_query.txt', 'cornmarket_5_query.txt', 'christ_church_5_query.txt', 'christ_church_4_query.txt', 'hertford_5_query.txt', 'cornmarket_1_query.txt', 'ashmolean_2_query.txt', 'keble_3_query.txt', 'radcliffe_camera_3_query.txt', 'pitt_rivers_1_query.txt', 'hertford_4_query.txt', 'keble_4_query.txt', 'cornmarket_4_query.txt', 'pitt_rivers_5_query.txt', 'magdalen_2_query.txt', 'all_souls_1_query.txt', 'keble_2_query.txt', 'ashmolean_1_query.txt', 'hertford_3_query.txt', 'ashmolean_4_query.txt', 'all_souls_4_query.txt', 'bodleian_3_query.txt', 'all_souls_2_query.txt', 'pitt_rivers_2_query.txt', 'balliol_4_query.txt', 'hertford_1_query.txt', 'bodleian_2_query.txt', 'ashmolean_3_query.txt', 'christ_church_3_query.txt', 'keble_1_query.txt', 'magdalen_5_query.txt', 'cornmarket_2_query.txt', 'pitt_rivers_4_query.txt', 'balliol_3_query.txt', 'magdalen_3_query.txt', 'bodleian_1_query.txt', 'ashmolean_5_query.txt', 'radcliffe_camera_4_query.txt', 'hertford_2_query.txt', 'all_souls_5_query.txt', 'keble_5_query.txt']\n",
      "['all_souls_3_good.txt', 'cornmarket_3_good.txt', 'bodleian_4_good.txt', 'radcliffe_camera_5_good.txt', 'bodleian_5_good.txt', 'pitt_rivers_3_good.txt', 'magdalen_4_good.txt', 'radcliffe_camera_1_good.txt', 'christ_church_2_good.txt', 'christ_church_1_good.txt', 'balliol_1_good.txt', 'balliol_2_good.txt', 'balliol_5_good.txt', 'radcliffe_camera_2_good.txt', 'magdalen_1_good.txt', 'cornmarket_5_good.txt', 'christ_church_5_good.txt', 'christ_church_4_good.txt', 'hertford_5_good.txt', 'cornmarket_1_good.txt', 'ashmolean_2_good.txt', 'keble_3_good.txt', 'radcliffe_camera_3_good.txt', 'pitt_rivers_1_good.txt', 'hertford_4_good.txt', 'keble_4_good.txt', 'cornmarket_4_good.txt', 'pitt_rivers_5_good.txt', 'magdalen_2_good.txt', 'all_souls_1_good.txt', 'keble_2_good.txt', 'ashmolean_1_good.txt', 'hertford_3_good.txt', 'ashmolean_4_good.txt', 'all_souls_4_good.txt', 'bodleian_3_good.txt', 'all_souls_2_good.txt', 'pitt_rivers_2_good.txt', 'balliol_4_good.txt', 'hertford_1_good.txt', 'bodleian_2_good.txt', 'ashmolean_3_good.txt', 'christ_church_3_good.txt', 'keble_1_good.txt', 'magdalen_5_good.txt', 'cornmarket_2_good.txt', 'pitt_rivers_4_good.txt', 'balliol_3_good.txt', 'magdalen_3_good.txt', 'bodleian_1_good.txt', 'ashmolean_5_good.txt', 'radcliffe_camera_4_good.txt', 'hertford_2_good.txt', 'all_souls_5_good.txt', 'keble_5_good.txt']\n",
      "['all_souls_3_junk.txt', 'cornmarket_3_junk.txt', 'bodleian_4_junk.txt', 'radcliffe_camera_5_junk.txt', 'bodleian_5_junk.txt', 'pitt_rivers_3_junk.txt', 'magdalen_4_junk.txt', 'radcliffe_camera_1_junk.txt', 'christ_church_2_junk.txt', 'christ_church_1_junk.txt', 'balliol_1_junk.txt', 'balliol_2_junk.txt', 'balliol_5_junk.txt', 'radcliffe_camera_2_junk.txt', 'magdalen_1_junk.txt', 'cornmarket_5_junk.txt', 'christ_church_5_junk.txt', 'christ_church_4_junk.txt', 'hertford_5_junk.txt', 'cornmarket_1_junk.txt', 'ashmolean_2_junk.txt', 'keble_3_junk.txt', 'radcliffe_camera_3_junk.txt', 'pitt_rivers_1_junk.txt', 'hertford_4_junk.txt', 'keble_4_junk.txt', 'cornmarket_4_junk.txt', 'pitt_rivers_5_junk.txt', 'magdalen_2_junk.txt', 'all_souls_1_junk.txt', 'keble_2_junk.txt', 'ashmolean_1_junk.txt', 'hertford_3_junk.txt', 'ashmolean_4_junk.txt', 'all_souls_4_junk.txt', 'bodleian_3_junk.txt', 'all_souls_2_junk.txt', 'pitt_rivers_2_junk.txt', 'balliol_4_junk.txt', 'hertford_1_junk.txt', 'bodleian_2_junk.txt', 'ashmolean_3_junk.txt', 'christ_church_3_junk.txt', 'keble_1_junk.txt', 'magdalen_5_junk.txt', 'cornmarket_2_junk.txt', 'pitt_rivers_4_junk.txt', 'balliol_3_junk.txt', 'magdalen_3_junk.txt', 'bodleian_1_junk.txt', 'ashmolean_5_junk.txt', 'radcliffe_camera_4_junk.txt', 'hertford_2_junk.txt', 'all_souls_5_junk.txt', 'keble_5_junk.txt']\n",
      "['all_souls_3_ok.txt', 'cornmarket_3_ok.txt', 'bodleian_4_ok.txt', 'radcliffe_camera_5_ok.txt', 'bodleian_5_ok.txt', 'pitt_rivers_3_ok.txt', 'magdalen_4_ok.txt', 'radcliffe_camera_1_ok.txt', 'christ_church_2_ok.txt', 'christ_church_1_ok.txt', 'balliol_1_ok.txt', 'balliol_2_ok.txt', 'balliol_5_ok.txt', 'radcliffe_camera_2_ok.txt', 'magdalen_1_ok.txt', 'cornmarket_5_ok.txt', 'christ_church_5_ok.txt', 'christ_church_4_ok.txt', 'hertford_5_ok.txt', 'cornmarket_1_ok.txt', 'ashmolean_2_ok.txt', 'keble_3_ok.txt', 'radcliffe_camera_3_ok.txt', 'pitt_rivers_1_ok.txt', 'hertford_4_ok.txt', 'keble_4_ok.txt', 'cornmarket_4_ok.txt', 'pitt_rivers_5_ok.txt', 'magdalen_2_ok.txt', 'all_souls_1_ok.txt', 'keble_2_ok.txt', 'ashmolean_1_ok.txt', 'hertford_3_ok.txt', 'ashmolean_4_ok.txt', 'all_souls_4_ok.txt', 'bodleian_3_ok.txt', 'all_souls_2_ok.txt', 'pitt_rivers_2_ok.txt', 'balliol_4_ok.txt', 'hertford_1_ok.txt', 'bodleian_2_ok.txt', 'ashmolean_3_ok.txt', 'christ_church_3_ok.txt', 'keble_1_ok.txt', 'magdalen_5_ok.txt', 'cornmarket_2_ok.txt', 'pitt_rivers_4_ok.txt', 'balliol_3_ok.txt', 'magdalen_3_ok.txt', 'bodleian_1_ok.txt', 'ashmolean_5_ok.txt', 'radcliffe_camera_4_ok.txt', 'hertford_2_ok.txt', 'all_souls_5_ok.txt', 'keble_5_ok.txt']\n"
     ]
    }
   ],
   "source": [
    "print(list_files_query)\n",
    "print(list_files_good)\n",
    "print(list_files_junk)\n",
    "print(list_files_ok)"
   ]
  },
  {
   "cell_type": "markdown",
   "metadata": {
    "id": "ALaS7jfHobZF"
   },
   "source": [
    "*** ảnh trong file query***"
   ]
  },
  {
   "cell_type": "code",
   "execution_count": 45,
   "metadata": {
    "colab": {
     "base_uri": "https://localhost:8080/"
    },
    "executionInfo": {
     "elapsed": 409,
     "status": "ok",
     "timestamp": 1631065186996,
     "user": {
      "displayName": "Dân Phạm",
      "photoUrl": "https://lh3.googleusercontent.com/a/default-user=s64",
      "userId": "01439254586035670376"
     },
     "user_tz": -420
    },
    "id": "DhyG1V8b20MB",
    "outputId": "f197f5dd-c550-4152-9f65-ed82e57c1f45"
   },
   "outputs": [
    {
     "name": "stdout",
     "output_type": "stream",
     "text": [
      "['oxford_002985', 'cornmarket_000019', 'bodleian_000407', 'bodleian_000132', 'bodleian_000163', 'pitt_rivers_000153', 'oxford_001115', 'radcliffe_camera_000519', 'oxford_002734', 'christ_church_000179', 'balliol_000051', 'balliol_000187', 'oxford_001753', 'oxford_002904', 'magdalen_000078', 'cornmarket_000131', 'oxford_002562', 'christ_church_001020', 'hertford_000063', 'cornmarket_000047', 'ashmolean_000000', 'keble_000227', 'radcliffe_camera_000523', 'pitt_rivers_000033', 'hertford_000027', 'keble_000028', 'oxford_000545', 'pitt_rivers_000058', 'oxford_003335', 'all_souls_000013', 'keble_000214', 'ashmolean_000058', 'oxford_000317', 'ashmolean_000007', 'all_souls_000051', 'bodleian_000108', 'all_souls_000026', 'pitt_rivers_000119', 'balliol_000194', 'hertford_000015', 'oxford_002416', 'ashmolean_000269', 'christ_church_000999', 'keble_000245', 'magdalen_000560', 'cornmarket_000105', 'pitt_rivers_000087', 'balliol_000167', 'magdalen_000058', 'bodleian_000107', 'ashmolean_000305', 'radcliffe_camera_000095', 'oxford_001752', 'oxford_003410', 'keble_000055']\n"
     ]
    }
   ],
   "source": [
    "im_list_query=get_image_query(list_files_query)\n",
    "print(im_list_query)"
   ]
  },
  {
   "cell_type": "code",
   "execution_count": null,
   "metadata": {
    "id": "_kSgDi1kUBUT"
   },
   "outputs": [],
   "source": [
    "img_list_query = [Image.open(\"/content/gdrive/MyDrive/imageclassification/Object Dataset/test/images/\" + img_path+\".jpg\") for img_path in im_list_query]"
   ]
  },
  {
   "cell_type": "markdown",
   "metadata": {
    "id": "qHw_I34NmgJB"
   },
   "source": [
    "**lấy vector của 55 query**"
   ]
  },
  {
   "cell_type": "code",
   "execution_count": null,
   "metadata": {
    "id": "9kKc0VEP4uMV"
   },
   "outputs": [],
   "source": [
    "query_batch = np.stack([preprocess_input(np.array(img.resize((224,224))))\n",
    "                             for img in img_list_query])"
   ]
  },
  {
   "cell_type": "code",
   "execution_count": null,
   "metadata": {
    "colab": {
     "base_uri": "https://localhost:8080/"
    },
    "executionInfo": {
     "elapsed": 30958,
     "status": "ok",
     "timestamp": 1631031967180,
     "user": {
      "displayName": "Dân Phạm",
      "photoUrl": "https://lh3.googleusercontent.com/a/default-user=s64",
      "userId": "01439254586035670376"
     },
     "user_tz": -420
    },
    "id": "nUPHRqHX6f2r",
    "outputId": "9e665607-09b2-4696-e025-af174048593d"
   },
   "outputs": [
    {
     "name": "stdout",
     "output_type": "stream",
     "text": [
      "(55, 2048)\n"
     ]
    }
   ],
   "source": [
    "vector_query = intermediate_layer_model.predict(query_batch)\n",
    "print(vector_query.shape)"
   ]
  },
  {
   "cell_type": "markdown",
   "metadata": {
    "id": "GJp2fNCaE_eu"
   },
   "source": [
    "**config**\n"
   ]
  },
  {
   "cell_type": "code",
   "execution_count": 21,
   "metadata": {
    "executionInfo": {
     "elapsed": 452,
     "status": "ok",
     "timestamp": 1631065499539,
     "user": {
      "displayName": "Dân Phạm",
      "photoUrl": "https://lh3.googleusercontent.com/a/default-user=s64",
      "userId": "01439254586035670376"
     },
     "user_tz": -420
    },
    "id": "33mj5nsnFBxb"
   },
   "outputs": [],
   "source": [
    "my_batch_size=4"
   ]
  },
  {
   "cell_type": "markdown",
   "metadata": {
    "id": "3y1dcVxNK9ih"
   },
   "source": [
    "**lấy vector embedding của dataset**"
   ]
  },
  {
   "cell_type": "code",
   "execution_count": 22,
   "metadata": {
    "colab": {
     "base_uri": "https://localhost:8080/"
    },
    "executionInfo": {
     "elapsed": 276,
     "status": "ok",
     "timestamp": 1631031997730,
     "user": {
      "displayName": "Dân Phạm",
      "photoUrl": "https://lh3.googleusercontent.com/a/default-user=s64",
      "userId": "01439254586035670376"
     },
     "user_tz": -420
    },
    "id": "hbpS6d_h2D7N",
    "outputId": "48a51317-aac7-40a5-8fe3-e051a448395c"
   },
   "outputs": [
    {
     "name": "stdout",
     "output_type": "stream",
     "text": [
      "Found 4297 images belonging to 1 classes.\n"
     ]
    }
   ],
   "source": [
    "test_datagen = ImageDataGenerator(\n",
    "    preprocessing_function=preprocess_input)\n",
    "\n",
    "test_generator = test_datagen.flow_from_directory(\n",
    "    \"/home/anlab/Downloads/imageclassification/Object Dataset/test\",\n",
    "    batch_size=my_batch_size,\n",
    "    shuffle=False,\n",
    "    target_size=(224,224))"
   ]
  },
  {
   "cell_type": "code",
   "execution_count": 23,
   "metadata": {
    "colab": {
     "base_uri": "https://localhost:8080/"
    },
    "executionInfo": {
     "elapsed": 1465707,
     "status": "ok",
     "timestamp": 1631033601740,
     "user": {
      "displayName": "Dân Phạm",
      "photoUrl": "https://lh3.googleusercontent.com/a/default-user=s64",
      "userId": "01439254586035670376"
     },
     "user_tz": -420
    },
    "id": "MsQ6D_2Ni3u5",
    "outputId": "f7fbf62f-2874-4851-f971-616967dd0965"
   },
   "outputs": [
    {
     "name": "stderr",
     "output_type": "stream",
     "text": [
      "2021-09-09 10:56:06.802899: I tensorflow/compiler/mlir/mlir_graph_optimization_pass.cc:176] None of the MLIR Optimization Passes are enabled (registered 2)\n",
      "2021-09-09 10:56:06.822376: I tensorflow/core/platform/profile_utils/cpu_utils.cc:114] CPU Frequency: 3999980000 Hz\n"
     ]
    },
    {
     "name": "stdout",
     "output_type": "stream",
     "text": [
      " 132/1075 [==>...........................] - ETA: 2:22"
     ]
    },
    {
     "ename": "KeyboardInterrupt",
     "evalue": "",
     "output_type": "error",
     "traceback": [
      "\u001b[0;31m---------------------------------------------------------------------------\u001b[0m",
      "\u001b[0;31mKeyboardInterrupt\u001b[0m                         Traceback (most recent call last)",
      "\u001b[0;32m/tmp/ipykernel_31175/1978490018.py\u001b[0m in \u001b[0;36m<module>\u001b[0;34m\u001b[0m\n\u001b[0;32m----> 1\u001b[0;31m \u001b[0mvector_dataset\u001b[0m \u001b[0;34m=\u001b[0m \u001b[0mintermediate_layer_model\u001b[0m\u001b[0;34m.\u001b[0m\u001b[0mpredict\u001b[0m\u001b[0;34m(\u001b[0m\u001b[0mtest_generator\u001b[0m\u001b[0;34m,\u001b[0m\u001b[0mverbose\u001b[0m\u001b[0;34m=\u001b[0m\u001b[0;36m1\u001b[0m\u001b[0;34m,\u001b[0m\u001b[0mbatch_size\u001b[0m\u001b[0;34m=\u001b[0m\u001b[0mmy_batch_size\u001b[0m\u001b[0;34m)\u001b[0m\u001b[0;34m\u001b[0m\u001b[0;34m\u001b[0m\u001b[0m\n\u001b[0m",
      "\u001b[0;32m~/anaconda3/envs/DB/lib/python3.7/site-packages/tensorflow/python/keras/engine/training.py\u001b[0m in \u001b[0;36mpredict\u001b[0;34m(self, x, batch_size, verbose, steps, callbacks, max_queue_size, workers, use_multiprocessing)\u001b[0m\n\u001b[1;32m   1725\u001b[0m           \u001b[0;32mfor\u001b[0m \u001b[0mstep\u001b[0m \u001b[0;32min\u001b[0m \u001b[0mdata_handler\u001b[0m\u001b[0;34m.\u001b[0m\u001b[0msteps\u001b[0m\u001b[0;34m(\u001b[0m\u001b[0;34m)\u001b[0m\u001b[0;34m:\u001b[0m\u001b[0;34m\u001b[0m\u001b[0;34m\u001b[0m\u001b[0m\n\u001b[1;32m   1726\u001b[0m             \u001b[0mcallbacks\u001b[0m\u001b[0;34m.\u001b[0m\u001b[0mon_predict_batch_begin\u001b[0m\u001b[0;34m(\u001b[0m\u001b[0mstep\u001b[0m\u001b[0;34m)\u001b[0m\u001b[0;34m\u001b[0m\u001b[0;34m\u001b[0m\u001b[0m\n\u001b[0;32m-> 1727\u001b[0;31m             \u001b[0mtmp_batch_outputs\u001b[0m \u001b[0;34m=\u001b[0m \u001b[0mself\u001b[0m\u001b[0;34m.\u001b[0m\u001b[0mpredict_function\u001b[0m\u001b[0;34m(\u001b[0m\u001b[0miterator\u001b[0m\u001b[0;34m)\u001b[0m\u001b[0;34m\u001b[0m\u001b[0;34m\u001b[0m\u001b[0m\n\u001b[0m\u001b[1;32m   1728\u001b[0m             \u001b[0;32mif\u001b[0m \u001b[0mdata_handler\u001b[0m\u001b[0;34m.\u001b[0m\u001b[0mshould_sync\u001b[0m\u001b[0;34m:\u001b[0m\u001b[0;34m\u001b[0m\u001b[0;34m\u001b[0m\u001b[0m\n\u001b[1;32m   1729\u001b[0m               \u001b[0mcontext\u001b[0m\u001b[0;34m.\u001b[0m\u001b[0masync_wait\u001b[0m\u001b[0;34m(\u001b[0m\u001b[0;34m)\u001b[0m\u001b[0;34m\u001b[0m\u001b[0;34m\u001b[0m\u001b[0m\n",
      "\u001b[0;32m~/anaconda3/envs/DB/lib/python3.7/site-packages/tensorflow/python/eager/def_function.py\u001b[0m in \u001b[0;36m__call__\u001b[0;34m(self, *args, **kwds)\u001b[0m\n\u001b[1;32m    887\u001b[0m \u001b[0;34m\u001b[0m\u001b[0m\n\u001b[1;32m    888\u001b[0m       \u001b[0;32mwith\u001b[0m \u001b[0mOptionalXlaContext\u001b[0m\u001b[0;34m(\u001b[0m\u001b[0mself\u001b[0m\u001b[0;34m.\u001b[0m\u001b[0m_jit_compile\u001b[0m\u001b[0;34m)\u001b[0m\u001b[0;34m:\u001b[0m\u001b[0;34m\u001b[0m\u001b[0;34m\u001b[0m\u001b[0m\n\u001b[0;32m--> 889\u001b[0;31m         \u001b[0mresult\u001b[0m \u001b[0;34m=\u001b[0m \u001b[0mself\u001b[0m\u001b[0;34m.\u001b[0m\u001b[0m_call\u001b[0m\u001b[0;34m(\u001b[0m\u001b[0;34m*\u001b[0m\u001b[0margs\u001b[0m\u001b[0;34m,\u001b[0m \u001b[0;34m**\u001b[0m\u001b[0mkwds\u001b[0m\u001b[0;34m)\u001b[0m\u001b[0;34m\u001b[0m\u001b[0;34m\u001b[0m\u001b[0m\n\u001b[0m\u001b[1;32m    890\u001b[0m \u001b[0;34m\u001b[0m\u001b[0m\n\u001b[1;32m    891\u001b[0m       \u001b[0mnew_tracing_count\u001b[0m \u001b[0;34m=\u001b[0m \u001b[0mself\u001b[0m\u001b[0;34m.\u001b[0m\u001b[0mexperimental_get_tracing_count\u001b[0m\u001b[0;34m(\u001b[0m\u001b[0;34m)\u001b[0m\u001b[0;34m\u001b[0m\u001b[0;34m\u001b[0m\u001b[0m\n",
      "\u001b[0;32m~/anaconda3/envs/DB/lib/python3.7/site-packages/tensorflow/python/eager/def_function.py\u001b[0m in \u001b[0;36m_call\u001b[0;34m(self, *args, **kwds)\u001b[0m\n\u001b[1;32m    922\u001b[0m       \u001b[0;31m# In this case we have not created variables on the first call. So we can\u001b[0m\u001b[0;34m\u001b[0m\u001b[0;34m\u001b[0m\u001b[0;34m\u001b[0m\u001b[0m\n\u001b[1;32m    923\u001b[0m       \u001b[0;31m# run the first trace but we should fail if variables are created.\u001b[0m\u001b[0;34m\u001b[0m\u001b[0;34m\u001b[0m\u001b[0;34m\u001b[0m\u001b[0m\n\u001b[0;32m--> 924\u001b[0;31m       \u001b[0mresults\u001b[0m \u001b[0;34m=\u001b[0m \u001b[0mself\u001b[0m\u001b[0;34m.\u001b[0m\u001b[0m_stateful_fn\u001b[0m\u001b[0;34m(\u001b[0m\u001b[0;34m*\u001b[0m\u001b[0margs\u001b[0m\u001b[0;34m,\u001b[0m \u001b[0;34m**\u001b[0m\u001b[0mkwds\u001b[0m\u001b[0;34m)\u001b[0m\u001b[0;34m\u001b[0m\u001b[0;34m\u001b[0m\u001b[0m\n\u001b[0m\u001b[1;32m    925\u001b[0m       \u001b[0;32mif\u001b[0m \u001b[0mself\u001b[0m\u001b[0;34m.\u001b[0m\u001b[0m_created_variables\u001b[0m\u001b[0;34m:\u001b[0m\u001b[0;34m\u001b[0m\u001b[0;34m\u001b[0m\u001b[0m\n\u001b[1;32m    926\u001b[0m         raise ValueError(\"Creating variables on a non-first call to a function\"\n",
      "\u001b[0;32m~/anaconda3/envs/DB/lib/python3.7/site-packages/tensorflow/python/eager/function.py\u001b[0m in \u001b[0;36m__call__\u001b[0;34m(self, *args, **kwargs)\u001b[0m\n\u001b[1;32m   3022\u001b[0m        filtered_flat_args) = self._maybe_define_function(args, kwargs)\n\u001b[1;32m   3023\u001b[0m     return graph_function._call_flat(\n\u001b[0;32m-> 3024\u001b[0;31m         filtered_flat_args, captured_inputs=graph_function.captured_inputs)  # pylint: disable=protected-access\n\u001b[0m\u001b[1;32m   3025\u001b[0m \u001b[0;34m\u001b[0m\u001b[0m\n\u001b[1;32m   3026\u001b[0m   \u001b[0;34m@\u001b[0m\u001b[0mproperty\u001b[0m\u001b[0;34m\u001b[0m\u001b[0;34m\u001b[0m\u001b[0m\n",
      "\u001b[0;32m~/anaconda3/envs/DB/lib/python3.7/site-packages/tensorflow/python/eager/function.py\u001b[0m in \u001b[0;36m_call_flat\u001b[0;34m(self, args, captured_inputs, cancellation_manager)\u001b[0m\n\u001b[1;32m   1959\u001b[0m       \u001b[0;31m# No tape is watching; skip to running the function.\u001b[0m\u001b[0;34m\u001b[0m\u001b[0;34m\u001b[0m\u001b[0;34m\u001b[0m\u001b[0m\n\u001b[1;32m   1960\u001b[0m       return self._build_call_outputs(self._inference_function.call(\n\u001b[0;32m-> 1961\u001b[0;31m           ctx, args, cancellation_manager=cancellation_manager))\n\u001b[0m\u001b[1;32m   1962\u001b[0m     forward_backward = self._select_forward_and_backward_functions(\n\u001b[1;32m   1963\u001b[0m         \u001b[0margs\u001b[0m\u001b[0;34m,\u001b[0m\u001b[0;34m\u001b[0m\u001b[0;34m\u001b[0m\u001b[0m\n",
      "\u001b[0;32m~/anaconda3/envs/DB/lib/python3.7/site-packages/tensorflow/python/eager/function.py\u001b[0m in \u001b[0;36mcall\u001b[0;34m(self, ctx, args, cancellation_manager)\u001b[0m\n\u001b[1;32m    594\u001b[0m               \u001b[0minputs\u001b[0m\u001b[0;34m=\u001b[0m\u001b[0margs\u001b[0m\u001b[0;34m,\u001b[0m\u001b[0;34m\u001b[0m\u001b[0;34m\u001b[0m\u001b[0m\n\u001b[1;32m    595\u001b[0m               \u001b[0mattrs\u001b[0m\u001b[0;34m=\u001b[0m\u001b[0mattrs\u001b[0m\u001b[0;34m,\u001b[0m\u001b[0;34m\u001b[0m\u001b[0;34m\u001b[0m\u001b[0m\n\u001b[0;32m--> 596\u001b[0;31m               ctx=ctx)\n\u001b[0m\u001b[1;32m    597\u001b[0m         \u001b[0;32melse\u001b[0m\u001b[0;34m:\u001b[0m\u001b[0;34m\u001b[0m\u001b[0;34m\u001b[0m\u001b[0m\n\u001b[1;32m    598\u001b[0m           outputs = execute.execute_with_cancellation(\n",
      "\u001b[0;32m~/anaconda3/envs/DB/lib/python3.7/site-packages/tensorflow/python/eager/execute.py\u001b[0m in \u001b[0;36mquick_execute\u001b[0;34m(op_name, num_outputs, inputs, attrs, ctx, name)\u001b[0m\n\u001b[1;32m     58\u001b[0m     \u001b[0mctx\u001b[0m\u001b[0;34m.\u001b[0m\u001b[0mensure_initialized\u001b[0m\u001b[0;34m(\u001b[0m\u001b[0;34m)\u001b[0m\u001b[0;34m\u001b[0m\u001b[0;34m\u001b[0m\u001b[0m\n\u001b[1;32m     59\u001b[0m     tensors = pywrap_tfe.TFE_Py_Execute(ctx._handle, device_name, op_name,\n\u001b[0;32m---> 60\u001b[0;31m                                         inputs, attrs, num_outputs)\n\u001b[0m\u001b[1;32m     61\u001b[0m   \u001b[0;32mexcept\u001b[0m \u001b[0mcore\u001b[0m\u001b[0;34m.\u001b[0m\u001b[0m_NotOkStatusException\u001b[0m \u001b[0;32mas\u001b[0m \u001b[0me\u001b[0m\u001b[0;34m:\u001b[0m\u001b[0;34m\u001b[0m\u001b[0;34m\u001b[0m\u001b[0m\n\u001b[1;32m     62\u001b[0m     \u001b[0;32mif\u001b[0m \u001b[0mname\u001b[0m \u001b[0;32mis\u001b[0m \u001b[0;32mnot\u001b[0m \u001b[0;32mNone\u001b[0m\u001b[0;34m:\u001b[0m\u001b[0;34m\u001b[0m\u001b[0;34m\u001b[0m\u001b[0m\n",
      "\u001b[0;31mKeyboardInterrupt\u001b[0m: "
     ]
    }
   ],
   "source": [
    "vector_dataset = intermediate_layer_model.predict(test_generator,verbose=1,batch_size=my_batch_size)"
   ]
  },
  {
   "cell_type": "code",
   "execution_count": null,
   "metadata": {
    "colab": {
     "base_uri": "https://localhost:8080/"
    },
    "executionInfo": {
     "elapsed": 270,
     "status": "ok",
     "timestamp": 1631034394941,
     "user": {
      "displayName": "Dân Phạm",
      "photoUrl": "https://lh3.googleusercontent.com/a/default-user=s64",
      "userId": "01439254586035670376"
     },
     "user_tz": -420
    },
    "id": "2J6g0am5ObEE",
    "outputId": "b26b327f-ee05-4dda-dd54-808371c1d3e8"
   },
   "outputs": [
    {
     "data": {
      "text/plain": [
       "array([[1.5500708e-01, 7.6841450e-01, 0.0000000e+00, ..., 4.7107181e-03,\n",
       "        6.5276869e-02, 4.3367050e-03],\n",
       "       [1.8631063e-01, 2.4953511e-01, 1.7937577e-01, ..., 1.5365396e-01,\n",
       "        9.0062402e-02, 7.5269192e-01],\n",
       "       [3.0815521e-01, 8.1414127e-01, 0.0000000e+00, ..., 2.8017688e-01,\n",
       "        0.0000000e+00, 2.0229194e-02],\n",
       "       ...,\n",
       "       [5.5308927e-02, 1.4056910e+00, 2.1284474e-02, ..., 5.3544119e-02,\n",
       "        1.0441566e-03, 2.9936048e-01],\n",
       "       [7.9675061e-01, 2.3394336e-03, 4.0687013e-02, ..., 1.7498250e-01,\n",
       "        7.2401114e-02, 0.0000000e+00],\n",
       "       [9.3810099e-01, 6.1736041e-01, 2.3288116e-01, ..., 7.9570465e-02,\n",
       "        1.6910343e-01, 4.9909452e-01]], dtype=float32)"
      ]
     },
     "execution_count": 45,
     "metadata": {},
     "output_type": "execute_result"
    }
   ],
   "source": [
    "vector_dataset"
   ]
  },
  {
   "cell_type": "code",
   "execution_count": null,
   "metadata": {
    "colab": {
     "base_uri": "https://localhost:8080/"
    },
    "executionInfo": {
     "elapsed": 469,
     "status": "ok",
     "timestamp": 1630977509228,
     "user": {
      "displayName": "Dân Phạm",
      "photoUrl": "https://lh3.googleusercontent.com/a/default-user=s64",
      "userId": "01439254586035670376"
     },
     "user_tz": -420
    },
    "id": "DNjscfA75zp5",
    "outputId": "795a3e50-5b79-4223-eaee-e21470d7047d"
   },
   "outputs": [
    {
     "name": "stdout",
     "output_type": "stream",
     "text": [
      "(55, 2048)\n",
      "(5063, 2048)\n"
     ]
    }
   ],
   "source": [
    "print(vector_query.shape)\n",
    "print(vector_dataset.shape)"
   ]
  },
  {
   "cell_type": "markdown",
   "metadata": {
    "id": "4e0AVprJS7Ti"
   },
   "source": [
    "***KIỂM TRA TEST  ẢNH all_souls_000000.jpg***"
   ]
  },
  {
   "cell_type": "code",
   "execution_count": 51,
   "metadata": {
    "executionInfo": {
     "elapsed": 261,
     "status": "ok",
     "timestamp": 1631069628906,
     "user": {
      "displayName": "Dân Phạm",
      "photoUrl": "https://lh3.googleusercontent.com/a/default-user=s64",
      "userId": "01439254586035670376"
     },
     "user_tz": -420
    },
    "id": "o3WR9D-KS6_G"
   },
   "outputs": [],
   "source": [
    "test = Image.open(\"/content/gdrive/MyDrive/imageclassification/Object Dataset/test/images/all_souls_000000.jpg\")\n"
   ]
  },
  {
   "cell_type": "code",
   "execution_count": 55,
   "metadata": {
    "executionInfo": {
     "elapsed": 10954,
     "status": "ok",
     "timestamp": 1631069738159,
     "user": {
      "displayName": "Dân Phạm",
      "photoUrl": "https://lh3.googleusercontent.com/a/default-user=s64",
      "userId": "01439254586035670376"
     },
     "user_tz": -420
    },
    "id": "6_TKkU6fUokY"
   },
   "outputs": [],
   "source": [
    "query_test = np.stack([preprocess_input(np.array(test.resize((224,224))))])"
   ]
  },
  {
   "cell_type": "code",
   "execution_count": 56,
   "metadata": {
    "colab": {
     "base_uri": "https://localhost:8080/"
    },
    "executionInfo": {
     "elapsed": 1376,
     "status": "ok",
     "timestamp": 1631069741384,
     "user": {
      "displayName": "Dân Phạm",
      "photoUrl": "https://lh3.googleusercontent.com/a/default-user=s64",
      "userId": "01439254586035670376"
     },
     "user_tz": -420
    },
    "id": "NrSE07SjU5Wu",
    "outputId": "105e971a-4875-411c-f0f7-ead4d34089b5"
   },
   "outputs": [
    {
     "data": {
      "text/plain": [
       "array([[0.12962556, 0.49641556, 0.        , ..., 0.01738672, 0.05399851,\n",
       "        0.0380291 ]], dtype=float32)"
      ]
     },
     "execution_count": 56,
     "metadata": {},
     "output_type": "execute_result"
    }
   ],
   "source": [
    "vector_test = intermediate_layer_model.predict(query_test)\n",
    "vector_test #Đối chiếu với vector đầu tiên của vector dataset thì không giống"
   ]
  },
  {
   "cell_type": "markdown",
   "metadata": {
    "id": "_lfhdL61Weku"
   },
   "source": [
    "**tính map_good**"
   ]
  },
  {
   "cell_type": "code",
   "execution_count": null,
   "metadata": {
    "id": "otbMj29u1BwB"
   },
   "outputs": [],
   "source": [
    "# tính giao của 2 array-> kết quả trả về theo thứ tự của array 1\n",
    "def intersection(lst1, lst2):\n",
    "    lst3 = [value for value in lst1 if value in lst2]\n",
    "    return lst3"
   ]
  },
  {
   "cell_type": "code",
   "execution_count": null,
   "metadata": {
    "colab": {
     "base_uri": "https://localhost:8080/"
    },
    "executionInfo": {
     "elapsed": 26057,
     "status": "ok",
     "timestamp": 1631034660728,
     "user": {
      "displayName": "Dân Phạm",
      "photoUrl": "https://lh3.googleusercontent.com/a/default-user=s64",
      "userId": "01439254586035670376"
     },
     "user_tz": -420
    },
    "id": "JYESQKVdRdU1",
    "outputId": "9f5b2f17-91ae-4947-c0bb-94a58dde5576"
   },
   "outputs": [
    {
     "name": "stdout",
     "output_type": "stream",
     "text": [
      "[0.04608203067466018, 0.0676159688578064, 0.221995764999631, 0.14273057081790508, 0.6052393195865756, 0.23276850133992993, 0.6093861206881811, 0.026752262458639903, 0.45897585767433363, 0.4468661200186379, 0.40461426146621143, 0.6251578674578394, 0.21453973117664446, 0.020896706922959533, 0.5499151385570514, 0.09151090503472521, 0.6238213646309927, 0.5246911267881148, 0.6051546391752577, 0.6832558805391993, 0.17390655359535984, 0.4488873741785678, 0.7183333333333333, 0.23836742407508305, 0.05246744558136964, 0.6553294382074574, 0.3531531742161365, 0.522254514454003, 0.06099020531804166, 0.6272255758573977, 0.1716303955576431, 0.38186431459625303, 0.24871626673172387, 0.6830010723761429, 0.07873988446645092, 0.47398053424268255, 0.65222881746493, 0.1470100619644363, 0.5709698384827269, 0.4013121909596299, 0.28947919867048716, 0.4397329603469953, 0.22439125552207007, 0.0796833102408844, 0.6862745098039215, 0.5245742045465172, 0.49506826460376246, 0.8055555555555555, 0.765936376827004, 0.5692541856925418, 0.2676190476190476, 0.764747791339663, 0.7516170883834439, 0.2931623931623932, 0.4478925206239049]\n",
      "0.40486049486296116\n"
     ]
    }
   ],
   "source": [
    "list_ap_good=[]\n",
    "for i in range(len(list_files_query)):\n",
    "  vector_l2_dataset=np.linalg.norm(vector_query[i]-vector_dataset,axis=-1) # tính khoảng cách l2 của mỗi query đến dataset\n",
    "  gt=get_image_correspond(list_files_good[i])\n",
    "  toplen_image_query= np.argsort(vector_lb2_dataset) \n",
    "  for i in range(len(vector_dataset)):\n",
    "    all_image_in_top=toplen_image_query[:(len(gt)+i)]\n",
    "    image_correspond= [dataset[image] for image in all_image_in_top]\n",
    "    if(intersection(gt,image_correspond)==gt):\n",
    "      break\n",
    "  index=[]\n",
    "  AP=0\n",
    "  for j in range(len(image_correspond)):\n",
    "    if(image_correspond[j] in gt):\n",
    "      index.append(j)\n",
    "  for k in range(len(index)):\n",
    "    AP= AP+ ((k+1)/(index[k]+1))\n",
    "  AP=AP/len(gt)\n",
    "  list_ap_good.append(AP)\n",
    "map_good=sum(list_ap_good)/len(list_ap_good)\n",
    "print(list_ap_good)\n",
    "print(map_good)"
   ]
  },
  {
   "cell_type": "code",
   "execution_count": 6,
   "metadata": {
    "scrolled": true
   },
   "outputs": [
    {
     "name": "stdout",
     "output_type": "stream",
     "text": [
      "972\n"
     ]
    }
   ],
   "source": [
    "import os\n",
    "import cv2\n",
    "file=os.listdir(path_local+\"Object Dataset/test/06\")\n",
    "print(len(file))"
   ]
  },
  {
   "cell_type": "code",
   "execution_count": 8,
   "metadata": {},
   "outputs": [
    {
     "name": "stdout",
     "output_type": "stream",
     "text": [
      "06_001297.jpg\n",
      "06_003353.jpg\n",
      "06_002930.jpg\n",
      "06_003251.jpg\n",
      "06_000497.jpg\n",
      "06_000878.jpg\n",
      "06_001239.jpg\n",
      "06_001247.jpg\n",
      "06_000043.jpg\n",
      "06_000425.jpg\n",
      "06_000541.jpg\n",
      "06_000440.jpg\n",
      "06_001064.jpg\n",
      "06_002906.jpg\n",
      "06_000689.jpg\n",
      "06_001913.jpg\n",
      "06_000885.jpg\n",
      "06_002151.jpg\n",
      "06_001440.jpg\n",
      "06_000745.jpg\n",
      "06_001874.jpg\n",
      "06_000510.jpg\n",
      "06_002615.jpg\n",
      "06_001669.jpg\n",
      "06_003158.jpg\n",
      "06_000058.jpg\n",
      "06_000670.jpg\n",
      "06_000643.jpg\n",
      "06_003354.jpg\n",
      "06_002061.jpg\n",
      "06_000491.jpg\n",
      "06_002026.jpg\n",
      "06_002216.jpg\n",
      "06_002340.jpg\n",
      "06_002566.jpg\n",
      "06_003016.jpg\n",
      "06_000968.jpg\n",
      "06_001703.jpg\n",
      "06_001779.jpg\n",
      "06_001581.jpg\n",
      "06_001464.jpg\n",
      "06_001405.jpg\n",
      "06_003063.jpg\n",
      "06_001343.jpg\n",
      "06_001583.jpg\n",
      "06_000090.jpg\n",
      "06_001168.jpg\n",
      "06_000421.jpg\n",
      "06_000446.jpg\n",
      "06_001195.jpg\n",
      "06_002310.jpg\n",
      "06_003166.jpg\n",
      "06_001762.jpg\n",
      "06_001845.jpg\n",
      "06_000914.jpg\n",
      "06_002651.jpg\n",
      "06_003356.jpg\n",
      "06_000495.jpg\n",
      "06_000016.jpg\n",
      "06_003358.jpg\n",
      "06_002581.jpg\n",
      "06_001947.jpg\n",
      "06_000987.jpg\n",
      "06_001155.jpg\n",
      "06_000074.jpg\n",
      "06_000640.jpg\n",
      "06_001602.jpg\n",
      "06_002226.jpg\n",
      "06_003367.jpg\n",
      "06_001837.jpg\n",
      "06_000026.jpg\n",
      "06_001549.jpg\n",
      "06_003377.jpg\n",
      "06_001275.jpg\n",
      "06_000974.jpg\n",
      "06_000130.jpg\n",
      "06_000321.jpg\n",
      "06_000756.jpg\n",
      "06_001606.jpg\n",
      "06_001432.jpg\n",
      "06_000248.jpg\n",
      "06_002710.jpg\n",
      "06_000327.jpg\n",
      "06_002304.jpg\n",
      "06_002335.jpg\n",
      "06_002597.jpg\n",
      "06_003020.jpg\n",
      "06_000862.jpg\n",
      "06_000762.jpg\n",
      "06_002497.jpg\n",
      "06_002947.jpg\n",
      "06_002318.jpg\n",
      "06_000348.jpg\n",
      "06_003216.jpg\n",
      "06_003116.jpg\n",
      "06_000553.jpg\n",
      "06_000884.jpg\n",
      "06_002741.jpg\n",
      "06_001692.jpg\n",
      "06_003256.jpg\n",
      "06_001855.jpg\n",
      "06_000720.jpg\n",
      "06_001834.jpg\n",
      "06_001597.jpg\n",
      "06_003114.jpg\n",
      "06_001925.jpg\n",
      "06_000822.jpg\n",
      "06_002907.jpg\n",
      "06_002260.jpg\n",
      "06_000665.jpg\n",
      "06_001788.jpg\n",
      "06_000340.jpg\n",
      "06_001823.jpg\n",
      "06_001931.jpg\n",
      "06_000296.jpg\n",
      "06_000557.jpg\n",
      "06_001248.jpg\n",
      "06_002265.jpg\n",
      "06_003138.jpg\n",
      "06_000652.jpg\n",
      "06_000608.jpg\n",
      "06_003288.jpg\n",
      "06_001924.jpg\n",
      "06_002614.jpg\n",
      "06_002842.jpg\n",
      "06_001274.jpg\n",
      "06_001431.jpg\n",
      "06_001817.jpg\n",
      "06_000639.jpg\n",
      "06_002220.jpg\n",
      "06_000104.jpg\n",
      "06_001112.jpg\n",
      "06_001857.jpg\n",
      "06_001580.jpg\n",
      "06_001677.jpg\n",
      "06_001325.jpg\n",
      "06_000349.jpg\n",
      "06_003131.jpg\n",
      "06_000539.jpg\n",
      "06_002799.jpg\n",
      "06_000818.jpg\n",
      "06_000669.jpg\n",
      "06_001556.jpg\n",
      "06_000078.jpg\n",
      "06_003136.jpg\n",
      "06_002298.jpg\n",
      "06_002579.jpg\n",
      "06_000735.jpg\n",
      "06_002715.jpg\n",
      "06_002702.jpg\n",
      "06_001693.jpg\n",
      "06_000650.jpg\n",
      "06_002334.jpg\n",
      "06_002696.jpg\n",
      "06_000918.jpg\n",
      "06_000852.jpg\n",
      "06_002461.jpg\n",
      "06_001585.jpg\n",
      "06_002971.jpg\n",
      "06_002585.jpg\n",
      "06_002302.jpg\n",
      "06_003175.jpg\n",
      "06_001739.jpg\n",
      "06_001854.jpg\n",
      "06_002462.jpg\n",
      "06_001314.jpg\n",
      "06_001605.jpg\n",
      "06_002997.jpg\n",
      "06_001364.jpg\n",
      "06_001839.jpg\n",
      "06_000900.jpg\n",
      "06_001073.jpg\n",
      "06_000827.jpg\n",
      "06_000437.jpg\n",
      "06_000910.jpg\n",
      "06_001475.jpg\n",
      "06_000579.jpg\n",
      "06_001256.jpg\n",
      "06_001170.jpg\n",
      "06_003109.jpg\n",
      "06_002191.jpg\n",
      "06_000274.jpg\n",
      "06_000301.jpg\n",
      "06_002580.jpg\n",
      "06_000246.jpg\n",
      "06_001111.jpg\n",
      "06_001473.jpg\n",
      "06_000788.jpg\n",
      "06_000342.jpg\n",
      "06_001640.jpg\n",
      "06_001410.jpg\n",
      "06_000106.jpg\n",
      "06_001934.jpg\n",
      "06_003045.jpg\n",
      "06_000699.jpg\n",
      "06_002035.jpg\n",
      "06_003271.jpg\n",
      "06_002650.jpg\n",
      "06_000045.jpg\n",
      "06_001192.jpg\n",
      "06_001784.jpg\n",
      "06_001737.jpg\n",
      "06_001939.jpg\n",
      "06_001654.jpg\n",
      "06_000953.jpg\n",
      "06_001641.jpg\n",
      "06_000365.jpg\n",
      "06_000677.jpg\n",
      "06_002709.jpg\n",
      "06_000753.jpg\n",
      "06_001110.jpg\n",
      "06_000611.jpg\n",
      "06_001985.jpg\n",
      "06_001604.jpg\n",
      "06_000681.jpg\n",
      "06_003013.jpg\n",
      "06_000065.jpg\n",
      "06_001649.jpg\n",
      "06_002645.jpg\n",
      "06_003223.jpg\n",
      "06_000779.jpg\n",
      "06_000424.jpg\n",
      "06_000750.jpg\n",
      "06_000039.jpg\n",
      "06_000700.jpg\n",
      "06_001345.jpg\n",
      "06_000679.jpg\n",
      "06_001761.jpg\n",
      "06_000252.jpg\n",
      "06_001188.jpg\n",
      "06_003282.jpg\n",
      "06_001262.jpg\n",
      "06_000527.jpg\n",
      "06_002008.jpg\n",
      "06_003040.jpg\n",
      "06_002326.jpg\n",
      "06_001847.jpg\n",
      "06_000675.jpg\n",
      "06_000571.jpg\n",
      "06_002859.jpg\n",
      "06_002237.jpg\n",
      "06_000561.jpg\n",
      "06_002007.jpg\n",
      "06_001923.jpg\n",
      "06_003355.jpg\n",
      "06_002471.jpg\n",
      "06_001736.jpg\n",
      "06_001070.jpg\n",
      "06_000576.jpg\n",
      "06_000719.jpg\n",
      "06_000465.jpg\n",
      "06_001516.jpg\n",
      "06_001504.jpg\n",
      "06_000015.jpg\n",
      "06_000870.jpg\n",
      "06_002004.jpg\n",
      "06_000660.jpg\n",
      "06_000649.jpg\n",
      "06_001202.jpg\n",
      "06_000114.jpg\n",
      "06_000911.jpg\n",
      "06_002465.jpg\n",
      "06_000526.jpg\n",
      "06_000580.jpg\n",
      "06_000426.jpg\n",
      "06_002989.jpg\n",
      "06_003234.jpg\n",
      "06_000108.jpg\n",
      "06_001207.jpg\n",
      "06_002432.jpg\n",
      "06_001245.jpg\n",
      "06_000056.jpg\n",
      "06_000718.jpg\n",
      "06_003083.jpg\n",
      "06_003163.jpg\n",
      "06_000031.jpg\n",
      "06_000115.jpg\n",
      "06_001876.jpg\n",
      "06_000651.jpg\n",
      "06_000060.jpg\n",
      "06_001121.jpg\n",
      "06_002005.jpg\n",
      "06_000124.jpg\n",
      "06_000255.jpg\n",
      "06_000315.jpg\n",
      "06_000777.jpg\n",
      "06_000112.jpg\n",
      "06_001149.jpg\n",
      "06_001456.jpg\n",
      "06_001690.jpg\n",
      "06_000110.jpg\n",
      "06_002141.jpg\n",
      "06_000338.jpg\n",
      "06_000791.jpg\n",
      "06_002572.jpg\n",
      "06_000360.jpg\n",
      "06_000525.jpg\n",
      "06_001011.jpg\n",
      "06_001474.jpg\n",
      "06_001161.jpg\n",
      "06_002998.jpg\n",
      "06_000554.jpg\n",
      "06_003281.jpg\n",
      "06_001730.jpg\n",
      "06_000848.jpg\n",
      "06_000305.jpg\n",
      "06_001816.jpg\n",
      "06_001430.jpg\n",
      "06_000612.jpg\n",
      "06_003135.jpg\n",
      "06_002464.jpg\n",
      "06_001689.jpg\n",
      "06_001706.jpg\n",
      "06_002028.jpg\n",
      "06_001984.jpg\n",
      "06_003202.jpg\n",
      "06_001858.jpg\n",
      "06_001777.jpg\n",
      "06_002507.jpg\n",
      "06_003368.jpg\n",
      "06_002006.jpg\n",
      "06_000127.jpg\n",
      "06_000066.jpg\n",
      "06_000533.jpg\n",
      "06_003076.jpg\n",
      "06_003185.jpg\n",
      "06_001407.jpg\n",
      "06_002667.jpg\n",
      "06_002902.jpg\n",
      "06_003380.jpg\n",
      "06_000578.jpg\n",
      "06_002003.jpg\n",
      "06_001829.jpg\n",
      "06_000455.jpg\n",
      "06_003172.jpg\n",
      "06_001389.jpg\n",
      "06_000131.jpg\n",
      "06_001705.jpg\n",
      "06_001644.jpg\n",
      "06_001797.jpg\n",
      "06_002013.jpg\n",
      "06_000568.jpg\n",
      "06_001201.jpg\n",
      "06_000366.jpg\n",
      "06_001451.jpg\n",
      "06_002964.jpg\n",
      "06_001552.jpg\n",
      "06_002172.jpg\n",
      "06_000218.jpg\n",
      "06_001199.jpg\n",
      "06_002594.jpg\n",
      "06_001802.jpg\n",
      "06_001729.jpg\n",
      "06_002719.jpg\n",
      "06_001856.jpg\n",
      "06_000122.jpg\n",
      "06_002749.jpg\n",
      "06_000755.jpg\n",
      "06_003103.jpg\n",
      "06_002740.jpg\n",
      "06_001800.jpg\n",
      "06_000725.jpg\n",
      "06_001598.jpg\n",
      "06_002618.jpg\n",
      "06_000403.jpg\n",
      "06_000378.jpg\n",
      "06_003102.jpg\n",
      "06_001699.jpg\n",
      "06_002620.jpg\n",
      "06_003186.jpg\n",
      "06_003360.jpg\n",
      "06_000646.jpg\n",
      "06_003290.jpg\n",
      "06_001261.jpg\n",
      "06_002704.jpg\n",
      "06_000509.jpg\n",
      "06_000926.jpg\n",
      "06_001354.jpg\n",
      "06_001653.jpg\n",
      "06_002595.jpg\n",
      "06_000082.jpg\n",
      "06_000025.jpg\n",
      "06_001189.jpg\n",
      "06_000564.jpg\n",
      "06_000103.jpg\n",
      "06_000758.jpg\n",
      "06_000875.jpg\n",
      "06_000055.jpg\n",
      "06_000059.jpg\n",
      "06_001618.jpg\n",
      "06_001702.jpg\n",
      "06_000609.jpg\n",
      "06_000341.jpg\n",
      "06_000888.jpg\n",
      "06_000344.jpg\n",
      "06_001156.jpg\n",
      "06_001447.jpg\n",
      "06_001796.jpg\n",
      "06_002584.jpg\n",
      "06_002193.jpg\n",
      "06_002545.jpg\n",
      "06_000952.jpg\n",
      "06_000303.jpg\n",
      "06_002682.jpg\n",
      "06_000783.jpg\n",
      "06_001685.jpg\n",
      "06_001240.jpg\n",
      "06_000299.jpg\n",
      "06_000522.jpg\n",
      "06_000256.jpg\n",
      "06_002230.jpg\n",
      "06_000037.jpg\n",
      "06_002368.jpg\n",
      "06_001190.jpg\n",
      "06_000472.jpg\n",
      "06_000087.jpg\n",
      "06_000663.jpg\n",
      "06_002860.jpg\n",
      "06_000706.jpg\n",
      "06_000531.jpg\n",
      "06_001382.jpg\n",
      "06_000195.jpg\n",
      "06_000184.jpg\n",
      "06_000674.jpg\n",
      "06_001160.jpg\n",
      "06_000203.jpg\n",
      "06_003039.jpg\n",
      "06_002851.jpg\n",
      "06_001200.jpg\n",
      "06_000772.jpg\n",
      "06_000840.jpg\n",
      "06_001433.jpg\n",
      "06_001603.jpg\n",
      "06_003021.jpg\n",
      "06_000834.jpg\n",
      "06_000761.jpg\n",
      "06_002301.jpg\n",
      "06_000091.jpg\n",
      "06_003015.jpg\n",
      "06_001162.jpg\n",
      "06_001368.jpg\n",
      "06_002494.jpg\n",
      "06_003252.jpg\n",
      "06_003157.jpg\n",
      "06_002463.jpg\n",
      "06_001930.jpg\n",
      "06_001428.jpg\n",
      "06_000292.jpg\n",
      "06_001335.jpg\n",
      "06_001655.jpg\n",
      "06_000459.jpg\n",
      "06_001067.jpg\n",
      "06_000343.jpg\n",
      "06_000734.jpg\n",
      "06_002636.jpg\n",
      "06_003041.jpg\n",
      "06_003253.jpg\n",
      "06_003065.jpg\n",
      "06_002616.jpg\n",
      "06_003038.jpg\n",
      "06_000925.jpg\n",
      "06_001933.jpg\n",
      "06_001932.jpg\n",
      "06_001579.jpg\n",
      "06_000957.jpg\n",
      "06_002534.jpg\n",
      "06_000423.jpg\n",
      "06_003064.jpg\n",
      "06_001724.jpg\n",
      "06_003340.jpg\n",
      "06_001790.jpg\n",
      "06_000413.jpg\n",
      "06_001442.jpg\n",
      "06_003035.jpg\n",
      "06_002748.jpg\n",
      "06_002299.jpg\n",
      "06_001390.jpg\n",
      "06_000786.jpg\n",
      "06_001404.jpg\n",
      "06_002878.jpg\n",
      "06_001850.jpg\n",
      "06_000290.jpg\n",
      "06_000711.jpg\n",
      "06_000129.jpg\n",
      "06_000275.jpg\n",
      "06_000368.jpg\n",
      "06_001734.jpg\n",
      "06_001738.jpg\n",
      "06_001843.jpg\n",
      "06_001215.jpg\n",
      "06_001785.jpg\n",
      "06_000325.jpg\n",
      "06_002427.jpg\n",
      "06_000690.jpg\n",
      "06_001289.jpg\n",
      "06_000548.jpg\n",
      "06_000433.jpg\n",
      "06_002000.jpg\n",
      "06_002621.jpg\n",
      "06_000916.jpg\n",
      "06_003177.jpg\n",
      "06_000057.jpg\n",
      "06_001268.jpg\n",
      "06_000485.jpg\n",
      "06_001670.jpg\n",
      "06_003369.jpg\n",
      "06_000306.jpg\n",
      "06_001639.jpg\n",
      "06_001864.jpg\n",
      "06_003001.jpg\n",
      "06_001660.jpg\n",
      "06_002358.jpg\n",
      "06_000577.jpg\n",
      "06_002244.jpg\n",
      "06_002968.jpg\n",
      "06_000460.jpg\n",
      "06_001723.jpg\n",
      "06_000799.jpg\n",
      "06_002415.jpg\n",
      "06_002292.jpg\n",
      "06_001648.jpg\n",
      "06_001126.jpg\n",
      "06_002765.jpg\n",
      "06_000757.jpg\n",
      "06_001150.jpg\n",
      "06_002484.jpg\n",
      "06_000480.jpg\n",
      "06_000915.jpg\n",
      "06_001439.jpg\n",
      "06_001851.jpg\n",
      "06_000709.jpg\n",
      "06_000322.jpg\n",
      "06_002012.jpg\n",
      "06_000871.jpg\n",
      "06_000792.jpg\n",
      "06_000912.jpg\n",
      "06_002235.jpg\n",
      "06_001701.jpg\n",
      "06_001695.jpg\n",
      "06_001981.jpg\n",
      "06_001911.jpg\n",
      "06_001782.jpg\n",
      "06_000575.jpg\n",
      "06_000853.jpg\n",
      "06_002546.jpg\n",
      "06_003213.jpg\n",
      "06_003009.jpg\n",
      "06_000529.jpg\n",
      "06_000461.jpg\n",
      "06_001457.jpg\n",
      "06_002149.jpg\n",
      "06_003182.jpg\n",
      "06_000967.jpg\n",
      "06_001973.jpg\n",
      "06_002435.jpg\n",
      "06_000094.jpg\n",
      "06_000831.jpg\n",
      "06_002144.jpg\n",
      "06_002578.jpg\n",
      "06_001656.jpg\n",
      "06_000857.jpg\n",
      "06_001651.jpg\n",
      "06_000555.jpg\n",
      "06_002856.jpg\n",
      "06_002225.jpg\n",
      "06_000766.jpg\n",
      "06_003212.jpg\n",
      "06_002818.jpg\n",
      "06_000269.jpg\n",
      "06_000891.jpg\n",
      "06_001177.jpg\n",
      "06_000737.jpg\n",
      "06_000309.jpg\n",
      "06_001795.jpg\n",
      "06_001259.jpg\n",
      "06_000504.jpg\n",
      "06_002145.jpg\n",
      "06_001974.jpg\n",
      "06_001787.jpg\n",
      "06_002219.jpg\n",
      "06_000768.jpg\n",
      "06_002561.jpg\n",
      "06_001836.jpg\n",
      "06_000997.jpg\n",
      "06_001849.jpg\n",
      "06_003280.jpg\n",
      "06_000692.jpg\n",
      "06_000428.jpg\n",
      "06_001002.jpg\n",
      "06_000030.jpg\n",
      "06_000722.jpg\n",
      "06_001153.jpg\n",
      "06_002819.jpg\n",
      "06_002045.jpg\n",
      "06_003183.jpg\n",
      "06_000563.jpg\n",
      "06_001700.jpg\n",
      "06_001709.jpg\n",
      "06_001244.jpg\n"
     ]
    },
    {
     "name": "stdout",
     "output_type": "stream",
     "text": [
      "06_002517.jpg\n",
      "06_003370.jpg\n",
      "06_002804.jpg\n",
      "06_002433.jpg\n",
      "06_000298.jpg\n",
      "06_001922.jpg\n",
      "06_003050.jpg\n",
      "06_002236.jpg\n",
      "06_002806.jpg\n",
      "06_002801.jpg\n",
      "06_001230.jpg\n",
      "06_001946.jpg\n",
      "06_002055.jpg\n",
      "06_001968.jpg\n",
      "06_001211.jpg\n",
      "06_001321.jpg\n",
      "06_003011.jpg\n",
      "06_000264.jpg\n",
      "06_000284.jpg\n",
      "06_001694.jpg\n",
      "06_001063.jpg\n",
      "06_001622.jpg\n",
      "06_003133.jpg\n",
      "06_000295.jpg\n",
      "06_001176.jpg\n",
      "06_003126.jpg\n",
      "06_001477.jpg\n",
      "06_002785.jpg\n",
      "06_003125.jpg\n",
      "06_000291.jpg\n",
      "06_000117.jpg\n",
      "06_002019.jpg\n",
      "06_000047.jpg\n",
      "06_000538.jpg\n",
      "06_000310.jpg\n",
      "06_002601.jpg\n",
      "06_001547.jpg\n",
      "06_002223.jpg\n",
      "06_002050.jpg\n",
      "06_000515.jpg\n",
      "06_002284.jpg\n",
      "06_001840.jpg\n",
      "06_000107.jpg\n",
      "06_002218.jpg\n",
      "06_000741.jpg\n",
      "06_002014.jpg\n",
      "06_001210.jpg\n",
      "06_000752.jpg\n",
      "06_000125.jpg\n",
      "06_001421.jpg\n",
      "06_002518.jpg\n",
      "06_001467.jpg\n",
      "06_001704.jpg\n",
      "06_002224.jpg\n",
      "06_000136.jpg\n",
      "06_001550.jpg\n",
      "06_000856.jpg\n",
      "06_001409.jpg\n",
      "06_001801.jpg\n",
      "06_001068.jpg\n",
      "06_003179.jpg\n",
      "06_000071.jpg\n",
      "06_000032.jpg\n",
      "06_000265.jpg\n",
      "06_002600.jpg\n",
      "06_000694.jpg\n",
      "06_002018.jpg\n",
      "06_000076.jpg\n",
      "06_000543.jpg\n",
      "06_003115.jpg\n",
      "06_000297.jpg\n",
      "06_002767.jpg\n",
      "06_002768.jpg\n",
      "06_003012.jpg\n",
      "06_001365.jpg\n",
      "06_002002.jpg\n",
      "06_000544.jpg\n",
      "06_000111.jpg\n",
      "06_002565.jpg\n",
      "06_000659.jpg\n",
      "06_001077.jpg\n",
      "06_002169.jpg\n",
      "06_001780.jpg\n",
      "06_000457.jpg\n",
      "06_000607.jpg\n",
      "06_000540.jpg\n",
      "06_000225.jpg\n",
      "06_000118.jpg\n",
      "06_002913.jpg\n",
      "06_000913.jpg\n",
      "06_002999.jpg\n",
      "06_001776.jpg\n",
      "06_000951.jpg\n",
      "06_002879.jpg\n",
      "06_003132.jpg\n",
      "06_001498.jpg\n",
      "06_000035.jpg\n",
      "06_000703.jpg\n",
      "06_003017.jpg\n",
      "06_000105.jpg\n",
      "06_002238.jpg\n",
      "06_001523.jpg\n",
      "06_000401.jpg\n",
      "06_000373.jpg\n",
      "06_001441.jpg\n",
      "06_000794.jpg\n",
      "06_001964.jpg\n",
      "06_003107.jpg\n",
      "06_000551.jpg\n",
      "06_000182.jpg\n",
      "06_000191.jpg\n",
      "06_003081.jpg\n",
      "06_000907.jpg\n",
      "06_000795.jpg\n",
      "06_002522.jpg\n",
      "06_000678.jpg\n",
      "06_001792.jpg\n",
      "06_002951.jpg\n",
      "06_002282.jpg\n",
      "06_003072.jpg\n",
      "06_000196.jpg\n",
      "06_002146.jpg\n",
      "06_001774.jpg\n",
      "06_001205.jpg\n",
      "06_001559.jpg\n",
      "06_003357.jpg\n",
      "06_003019.jpg\n",
      "06_000728.jpg\n",
      "06_000273.jpg\n",
      "06_000121.jpg\n",
      "06_000723.jpg\n",
      "06_000293.jpg\n",
      "06_002221.jpg\n",
      "06_001300.jpg\n",
      "06_002560.jpg\n",
      "06_001299.jpg\n",
      "06_000077.jpg\n",
      "06_002030.jpg\n",
      "06_001066.jpg\n",
      "06_000404.jpg\n",
      "06_002053.jpg\n",
      "06_003082.jpg\n",
      "06_000546.jpg\n",
      "06_001735.jpg\n",
      "06_000362.jpg\n",
      "06_000443.jpg\n",
      "06_002865.jpg\n",
      "06_001194.jpg\n",
      "06_001811.jpg\n",
      "06_001197.jpg\n",
      "06_000397.jpg\n",
      "06_003339.jpg\n",
      "06_000742.jpg\n",
      "06_002222.jpg\n",
      "06_000081.jpg\n",
      "06_000123.jpg\n",
      "06_003343.jpg\n",
      "06_001652.jpg\n",
      "06_000289.jpg\n",
      "06_002591.jpg\n"
     ]
    },
    {
     "name": "stderr",
     "output_type": "stream",
     "text": [
      "Corrupt JPEG data: 35 extraneous bytes before marker 0xd9\n"
     ]
    },
    {
     "name": "stdout",
     "output_type": "stream",
     "text": [
      "06_000390.jpg\n",
      "06_001127.jpg\n",
      "06_001472.jpg\n",
      "06_000324.jpg\n",
      "06_001009.jpg\n",
      "06_001357.jpg\n",
      "06_001835.jpg\n",
      "06_001229.jpg\n",
      "06_000945.jpg\n",
      "06_002751.jpg\n",
      "06_001293.jpg\n",
      "06_001678.jpg\n",
      "06_000811.jpg\n",
      "06_002341.jpg\n",
      "06_002174.jpg\n",
      "06_001257.jpg\n",
      "06_002171.jpg\n",
      "06_000145.jpg\n",
      "06_001813.jpg\n",
      "06_001970.jpg\n",
      "06_001233.jpg\n",
      "06_001007.jpg\n",
      "06_000109.jpg\n",
      "06_000637.jpg\n",
      "06_000924.jpg\n",
      "06_000902.jpg\n",
      "06_000860.jpg\n",
      "06_002495.jpg\n",
      "06_000680.jpg\n",
      "06_000866.jpg\n",
      "06_000537.jpg\n",
      "06_003304.jpg\n",
      "06_003379.jpg\n",
      "06_000641.jpg\n",
      "06_001286.jpg\n",
      "06_000468.jpg\n",
      "06_001673.jpg\n",
      "06_000435.jpg\n",
      "06_001055.jpg\n",
      "06_002852.jpg\n",
      "06_003346.jpg\n",
      "06_001072.jpg\n",
      "06_000279.jpg\n",
      "06_002944.jpg\n",
      "06_001601.jpg\n",
      "06_002908.jpg\n",
      "06_001307.jpg\n",
      "06_000033.jpg\n",
      "06_001599.jpg\n",
      "06_000898.jpg\n",
      "06_001921.jpg\n",
      "06_001374.jpg\n",
      "06_002181.jpg\n",
      "06_003214.jpg\n",
      "06_001638.jpg\n",
      "06_001401.jpg\n",
      "06_001822.jpg\n",
      "06_000828.jpg\n",
      "06_002766.jpg\n",
      "06_000046.jpg\n",
      "06_002305.jpg\n",
      "06_000547.jpg\n",
      "06_003134.jpg\n",
      "06_000079.jpg\n",
      "06_000308.jpg\n",
      "06_002501.jpg\n",
      "06_002021.jpg\n",
      "06_002414.jpg\n",
      "06_001812.jpg\n",
      "06_003178.jpg\n",
      "06_000339.jpg\n",
      "06_001914.jpg\n",
      "06_001662.jpg\n",
      "06_000996.jpg\n",
      "06_001326.jpg\n",
      "06_001380.jpg\n",
      "06_002441.jpg\n",
      "06_000064.jpg\n",
      "06_000773.jpg\n",
      "06_002394.jpg\n",
      "06_001578.jpg\n",
      "06_003164.jpg\n",
      "06_002619.jpg\n",
      "06_002434.jpg\n",
      "06_003326.jpg\n",
      "06_001203.jpg\n",
      "06_002114.jpg\n",
      "06_003344.jpg\n",
      "06_000144.jpg\n",
      "06_002692.jpg\n",
      "06_001124.jpg\n",
      "06_002802.jpg\n",
      "06_000705.jpg\n",
      "06_000736.jpg\n",
      "06_002604.jpg\n",
      "06_001346.jpg\n",
      "06_000759.jpg\n",
      "06_002965.jpg\n",
      "06_001061.jpg\n",
      "06_000721.jpg\n",
      "06_002739.jpg\n",
      "06_000014.jpg\n",
      "06_001167.jpg\n",
      "06_000642.jpg\n",
      "06_002300.jpg\n",
      "06_003289.jpg\n",
      "06_002622.jpg\n",
      "06_000698.jpg\n",
      "06_000038.jpg\n",
      "06_000813.jpg\n",
      "06_000565.jpg\n",
      "06_000714.jpg\n",
      "06_002295.jpg\n",
      "06_002598.jpg\n",
      "06_002496.jpg\n",
      "06_002303.jpg\n",
      "06_000648.jpg\n",
      "06_000731.jpg\n",
      "06_000464.jpg\n",
      "06_000093.jpg\n",
      "06_000268.jpg\n",
      "06_002877.jpg\n",
      "06_000991.jpg\n",
      "06_003043.jpg\n",
      "06_003378.jpg\n",
      "06_000854.jpg\n",
      "06_001814.jpg\n",
      "06_002897.jpg\n",
      "06_000999.jpg\n",
      "06_001791.jpg\n",
      "06_000710.jpg\n",
      "06_003106.jpg\n",
      "06_002617.jpg\n",
      "06_000876.jpg\n",
      "06_001778.jpg\n",
      "06_003232.jpg\n",
      "06_001333.jpg\n",
      "06_003323.jpg\n",
      "06_002764.jpg\n",
      "06_002515.jpg\n",
      "06_000801.jpg\n",
      "06_001642.jpg\n",
      "06_003325.jpg\n",
      "06_002283.jpg\n",
      "06_002779.jpg\n",
      "06_001122.jpg\n",
      "06_003153.jpg\n",
      "06_002168.jpg\n",
      "06_000267.jpg\n",
      "06_001789.jpg\n",
      "06_001744.jpg\n",
      "06_001645.jpg\n",
      "06_001810.jpg\n",
      "06_000132.jpg\n",
      "06_001212.jpg\n",
      "06_000063.jpg\n",
      "06_000119.jpg\n",
      "06_001671.jpg\n",
      "06_000817.jpg\n",
      "06_003130.jpg\n",
      "06_001332.jpg\n",
      "06_002431.jpg\n",
      "06_000147.jpg\n",
      "06_000251.jpg\n",
      "06_000427.jpg\n",
      "06_000451.jpg\n",
      "06_001553.jpg\n",
      "06_002062.jpg\n",
      "06_001728.jpg\n",
      "06_001686.jpg\n",
      "06_003096.jpg\n",
      "06_003154.jpg\n",
      "06_001500.jpg\n",
      "06_001302.jpg\n",
      "06_002319.jpg\n",
      "06_000044.jpg\n",
      "06_001786.jpg\n",
      "06_001679.jpg\n",
      "06_002900.jpg\n",
      "06_003094.jpg\n",
      "06_000517.jpg\n",
      "06_003108.jpg\n",
      "06_001163.jpg\n",
      "06_000534.jpg\n",
      "06_003123.jpg\n",
      "06_001218.jpg\n",
      "06_000760.jpg\n",
      "06_001251.jpg\n",
      "06_003037.jpg\n",
      "06_001369.jpg\n",
      "06_000610.jpg\n",
      "06_000027.jpg\n",
      "06_000841.jpg\n",
      "06_001497.jpg\n",
      "06_001476.jpg\n",
      "06_002911.jpg\n",
      "06_001663.jpg\n",
      "06_002640.jpg\n",
      "06_001348.jpg\n",
      "06_002803.jpg\n",
      "06_000113.jpg\n",
      "06_001895.jpg\n",
      "06_000666.jpg\n",
      "06_001173.jpg\n",
      "06_002516.jpg\n",
      "06_000458.jpg\n",
      "06_000814.jpg\n",
      "06_001113.jpg\n",
      "06_000186.jpg\n",
      "06_001363.jpg\n",
      "06_003246.jpg\n",
      "06_003176.jpg\n",
      "06_002612.jpg\n"
     ]
    }
   ],
   "source": [
    "for sub_img in file:\n",
    "    img= cv2.imread(path_local+\"Object Dataset/test/06/\"+sub_img)\n",
    "    print(sub_img)\n",
    "    "
   ]
  }
 ],
 "metadata": {
  "accelerator": "GPU",
  "colab": {
   "authorship_tag": "ABX9TyP3H4W/pmmlYZG5mrKSpzjd",
   "collapsed_sections": [],
   "name": "image_retrieval.ipynb",
   "provenance": []
  },
  "kernelspec": {
   "display_name": "Python 3 (ipykernel)",
   "language": "python",
   "name": "python3"
  },
  "language_info": {
   "codemirror_mode": {
    "name": "ipython",
    "version": 3
   },
   "file_extension": ".py",
   "mimetype": "text/x-python",
   "name": "python",
   "nbconvert_exporter": "python",
   "pygments_lexer": "ipython3",
   "version": "3.7.10"
  }
 },
 "nbformat": 4,
 "nbformat_minor": 1
}
